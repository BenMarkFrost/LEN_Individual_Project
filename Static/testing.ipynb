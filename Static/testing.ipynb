{
 "cells": [
  {
   "cell_type": "code",
   "execution_count": 2,
   "metadata": {},
   "outputs": [],
   "source": [
    "import pandas as pd\n",
    "import numpy as np\n",
    "import torch.multiprocessing as mp\n",
    "from sklearn.preprocessing import KBinsDiscretizer, OneHotEncoder, MinMaxScaler\n",
    "import LEN_Scorer\n",
    "from matplotlib import pyplot as plt\n",
    "from sklearn.cluster import AgglomerativeClustering\n",
    "from sklearn.metrics import silhouette_score\n",
    "from sklearn.metrics import f1_score\n",
    "from sklearn.metrics import recall_score\n",
    "from sklearn.metrics import precision_score\n",
    "from sklearn.cluster import KMeans\n",
    "from sklearn.preprocessing import PolynomialFeatures\n",
    "from tqdm import tqdm\n",
    "from concurrent.futures import ThreadPoolExecutor, as_completed\n",
    "from scipy.interpolate import interp1d\n",
    "from Categorization import Categorizer\n",
    "import torch\n",
    "import copy\n",
    "from torch.nn.functional import one_hot\n",
    "import imblearn\n",
    "from collections import Counter\n",
    "from tslearn.clustering import TimeSeriesKMeans, silhouette_score\n",
    "from tslearn.utils import to_time_series_dataset\n",
    "from tslearn.preprocessing import TimeSeriesScalerMeanVariance\n",
    "from tsfresh import extract_features, select_features\n",
    "from tsfresh.utilities.dataframe_functions import impute\n",
    "from dask.dataframe import from_pandas\n",
    "from tsfresh.utilities.distribution import MultiprocessingDistributor\n",
    "import hashlib \n",
    "from sklearn.metrics import precision_recall_fscore_support\n",
    "from importlib import reload\n",
    "from temporalHelper import TemporalHelper as TH\n",
    "from concurrent.futures import ProcessPoolExecutor\n",
    "import os\n",
    "\n"
   ]
  },
  {
   "cell_type": "code",
   "execution_count": 3,
   "metadata": {},
   "outputs": [
    {
     "data": {
      "text/plain": [
       "['clusteredData.csv', 'expertLabelledData.csv', 'metricExtractedData.csv']"
      ]
     },
     "execution_count": 3,
     "metadata": {},
     "output_type": "execute_result"
    }
   ],
   "source": [
    "files = os.listdir(\"./categorisedData/\")\n",
    "\n",
    "files"
   ]
  },
  {
   "cell_type": "code",
   "execution_count": null,
   "metadata": {},
   "outputs": [],
   "source": [
    "# TODO Move tensor operations into the LEN_Scorer class then score on this dataset.\n",
    "\n",
    "LEN_Scorer = reload(LEN_Scorer)\n",
    "\n",
    "\n",
    "data = cat.mappedTypes[type]\n",
    "\n",
    "obj = imblearn.over_sampling.SMOTEN(random_state=0, n_jobs=4)\n",
    "\n",
    "print(sorted(Counter(targetSeries).items()))\n",
    "\n",
    "new_x = data.to_numpy()\n",
    "new_y = targetSeries\n",
    "\n",
    "new_x, new_y = obj.fit_resample(data.to_numpy(), targetSeries)\n",
    "\n",
    "print(sorted(Counter(new_y).items()))\n",
    "\n",
    "# print(new_y)\n",
    "\n",
    "scorer = LEN_Scorer.Scorer(data=new_x, target=new_y, concept_names=data.columns)\n",
    "\n",
    "y_pred, y_test_argmax = scorer.train([20])\n",
    "\n",
    "scorer.explain()"
   ]
  },
  {
   "cell_type": "code",
   "execution_count": null,
   "metadata": {},
   "outputs": [],
   "source": [
    "print(f1_score(y_test_argmax.numpy(), y_pred.numpy()))\n",
    "print(recall_score(y_test_argmax.numpy(), y_pred.numpy()))\n",
    "print(precision_score(y_test_argmax.numpy(), y_pred.numpy()))"
   ]
  },
  {
   "cell_type": "code",
   "execution_count": null,
   "metadata": {},
   "outputs": [],
   "source": [
    "precision_recall_fscore_support(y_test_argmax.numpy(), y_pred.numpy())"
   ]
  },
  {
   "cell_type": "code",
   "execution_count": null,
   "metadata": {},
   "outputs": [],
   "source": [
    "print(\"Minority class correct: \" + str(torch.sum(torch.logical_and((y_pred == 1), (y_test_argmax == 1))).item()))"
   ]
  }
 ],
 "metadata": {
  "kernelspec": {
   "display_name": "Python 3.9.7 ('base')",
   "language": "python",
   "name": "python3"
  },
  "language_info": {
   "codemirror_mode": {
    "name": "ipython",
    "version": 3
   },
   "file_extension": ".py",
   "mimetype": "text/x-python",
   "name": "python",
   "nbconvert_exporter": "python",
   "pygments_lexer": "ipython3",
   "version": "3.9.7"
  },
  "orig_nbformat": 4,
  "vscode": {
   "interpreter": {
    "hash": "0c0da8f5b93ec0612bb8aed25290fce040bcd4618fccb82f778dd001cba2969b"
   }
  }
 },
 "nbformat": 4,
 "nbformat_minor": 2
}
