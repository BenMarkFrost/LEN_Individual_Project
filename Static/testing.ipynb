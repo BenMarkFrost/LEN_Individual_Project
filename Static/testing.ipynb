{
 "cells": [
  {
   "cell_type": "code",
   "execution_count": 1,
   "metadata": {},
   "outputs": [
    {
     "data": {
      "text/plain": [
       "' The model code from this file is adapted from the following:\\nhttps://github.com/pietrobarbiero/pytorch_explain/blob/master/experiments/elens/mnist.py\\n\\nCredit to Pietro Barbiero for the original code.'"
      ]
     },
     "execution_count": 1,
     "metadata": {},
     "output_type": "execute_result"
    }
   ],
   "source": [
    "\"\"\" The model code from this file is adapted from the following:\n",
    "https://github.com/pietrobarbiero/pytorch_explain/blob/master/experiments/elens/mnist.py\n",
    "\n",
    "Credit to Pietro Barbiero for the original code.\"\"\""
   ]
  },
  {
   "cell_type": "code",
   "execution_count": 1,
   "metadata": {},
   "outputs": [],
   "source": [
    "import pandas as pd\n",
    "import numpy as np\n",
    "import torch.multiprocessing as mp\n",
    "from sklearn.preprocessing import KBinsDiscretizer, OneHotEncoder, MinMaxScaler\n",
    "from matplotlib import pyplot as plt\n",
    "from sklearn.cluster import AgglomerativeClustering\n",
    "from sklearn.metrics import silhouette_score\n",
    "from sklearn.metrics import f1_score\n",
    "from sklearn.metrics import recall_score\n",
    "from sklearn.metrics import precision_score\n",
    "from sklearn.cluster import KMeans\n",
    "from sklearn.preprocessing import PolynomialFeatures\n",
    "from tqdm import tqdm\n",
    "from concurrent.futures import ThreadPoolExecutor, as_completed\n",
    "from scipy.interpolate import interp1d\n",
    "from Categorization import Categorizer\n",
    "import torch\n",
    "from torch.utils.data import DataLoader, TensorDataset, random_split\n",
    "import copy\n",
    "from torch.nn.functional import one_hot\n",
    "import imblearn\n",
    "from pytorch_lightning import Trainer, seed_everything\n",
    "from pytorch_lightning.callbacks import ModelCheckpoint\n",
    "from collections import Counter\n",
    "from tslearn.clustering import TimeSeriesKMeans, silhouette_score\n",
    "from tslearn.utils import to_time_series_dataset\n",
    "from tslearn.preprocessing import TimeSeriesScalerMeanVariance\n",
    "from tsfresh import extract_features, select_features\n",
    "from tsfresh.utilities.dataframe_functions import impute\n",
    "from dask.dataframe import from_pandas\n",
    "from tsfresh.utilities.distribution import MultiprocessingDistributor\n",
    "from sklearn.model_selection import StratifiedKFold, train_test_split\n",
    "import hashlib \n",
    "from sklearn.metrics import precision_recall_fscore_support\n",
    "from importlib import reload\n",
    "from temporalHelper import TemporalHelper as TH\n",
    "from concurrent.futures import ProcessPoolExecutor\n",
    "import os\n",
    "from torch_explain.models.explainer import Explainer\n",
    "import time\n",
    "from torchmetrics.functional import precision_recall\n",
    "from sklearn.feature_selection import mutual_info_classif, chi2\n",
    "from sklearn.linear_model import LassoCV\n",
    "from torch_explain.logic.metrics import formula_consistency\n",
    "import seaborn as sns\n",
    "from sklearn.tree import DecisionTreeClassifier\n",
    "from sklearn.ensemble import RandomForestClassifier\n",
    "from sklearn.model_selection import cross_validate, RepeatedStratifiedKFold\n"
   ]
  },
  {
   "cell_type": "code",
   "execution_count": 2,
   "metadata": {},
   "outputs": [
    {
     "name": "stdout",
     "output_type": "stream",
     "text": [
      "['clusteredData.csv', 'expertLabelledData.csv', 'metricExtractedData.csv', 'staticData.csv']\n",
      "4\n"
     ]
    }
   ],
   "source": [
    "files = os.listdir(\"./categorisedData/\")\n",
    "\n",
    "\n",
    "datasets = {file : pd.read_csv(\"./categorisedData/\" + file).set_index('PatientID') for file in files}\n",
    "\n",
    "results_dict = {}\n",
    "\n",
    "print(files)\n",
    "\n",
    "print(len(datasets))"
   ]
  },
  {
   "cell_type": "code",
   "execution_count": 3,
   "metadata": {},
   "outputs": [
    {
     "name": "stderr",
     "output_type": "stream",
     "text": [
      "Global seed set to 40\n"
     ]
    },
    {
     "name": "stdout",
     "output_type": "stream",
     "text": [
      "Training clusteredData.csv\n",
      "\n",
      "Training on 2 classes\n",
      "Num concepts: 120\n",
      "Num classes: 2\n",
      "Split [1/10]\n",
      "690/173/96\n",
      "[(0, 666), (1, 24)]\n"
     ]
    },
    {
     "name": "stderr",
     "output_type": "stream",
     "text": [
      "GPU available: True, used: True\n",
      "TPU available: False, using: 0 TPU cores\n",
      "IPU available: False, using: 0 IPUs\n",
      "LOCAL_RANK: 0 - CUDA_VISIBLE_DEVICES: [0]\n"
     ]
    },
    {
     "name": "stdout",
     "output_type": "stream",
     "text": [
      "[(0, 666), (1, 666)]\n"
     ]
    },
    {
     "name": "stderr",
     "output_type": "stream",
     "text": [
      "\n",
      "  | Name  | Type             | Params\n",
      "-------------------------------------------\n",
      "0 | loss  | CrossEntropyLoss | 0     \n",
      "1 | model | Sequential       | 4.9 K \n",
      "-------------------------------------------\n",
      "4.9 K     Trainable params\n",
      "0         Non-trainable params\n",
      "4.9 K     Total params\n",
      "0.019     Total estimated model params size (MB)\n",
      "c:\\Users\\benma\\anaconda3\\lib\\site-packages\\pytorch_lightning\\callbacks\\model_checkpoint.py:631: UserWarning: Checkpoint directory C:\\Users\\benma\\OneDrive\\Kings\\Modules\\Term 2\\Individual Project\\LEN Individual Project\\Static\\results\\mimicLEN\\explainer exists and is not empty.\n",
      "  rank_zero_warn(f\"Checkpoint directory {dirpath} exists and is not empty.\")\n",
      "c:\\Users\\benma\\anaconda3\\lib\\site-packages\\pytorch_lightning\\trainer\\data_loading.py:132: UserWarning: The dataloader, val_dataloader 0, does not have many workers which may be a bottleneck. Consider increasing the value of the `num_workers` argument` (try 8 which is the number of cpus on this machine) in the `DataLoader` init to improve performance.\n",
      "  rank_zero_warn(\n",
      "Global seed set to 40\n",
      "c:\\Users\\benma\\anaconda3\\lib\\site-packages\\pytorch_lightning\\trainer\\data_loading.py:132: UserWarning: The dataloader, train_dataloader, does not have many workers which may be a bottleneck. Consider increasing the value of the `num_workers` argument` (try 8 which is the number of cpus on this machine) in the `DataLoader` init to improve performance.\n",
      "  rank_zero_warn(\n",
      "c:\\Users\\benma\\anaconda3\\lib\\site-packages\\pytorch_lightning\\trainer\\data_loading.py:432: UserWarning: The number of training samples (2) is smaller than the logging interval Trainer(log_every_n_steps=50). Set a lower value for log_every_n_steps if you want to see logs for the training epoch.\n",
      "  rank_zero_warn(\n",
      "c:\\Users\\benma\\anaconda3\\lib\\site-packages\\pytorch_lightning\\trainer\\trainer.py:906: LightningDeprecationWarning: `trainer.test(test_dataloaders)` is deprecated in v1.4 and will be removed in v1.6. Use `trainer.test(dataloaders)` instead.\n",
      "  rank_zero_deprecation(\n",
      "LOCAL_RANK: 0 - CUDA_VISIBLE_DEVICES: [0]\n"
     ]
    },
    {
     "name": "stdout",
     "output_type": "stream",
     "text": [
      "\n",
      "Testing...\n",
      "\n",
      "--------------------------------------------------------------------------------\n",
      "DATALOADER:0 TEST RESULTS\n",
      "{'test_acc': 0.96875, 'test_acc_epoch': 0.96875}\n",
      "--------------------------------------------------------------------------------\n",
      "\n",
      "Explaining\n",
      "\n"
     ]
    },
    {
     "name": "stderr",
     "output_type": "stream",
     "text": [
      "c:\\Users\\benma\\anaconda3\\lib\\site-packages\\pytorch_lightning\\trainer\\data_loading.py:132: UserWarning: The dataloader, test_dataloader 0, does not have many workers which may be a bottleneck. Consider increasing the value of the `num_workers` argument` (try 8 which is the number of cpus on this machine) in the `DataLoader` init to improve performance.\n",
      "  rank_zero_warn(\n"
     ]
    },
    {
     "name": "stdout",
     "output_type": "stream",
     "text": [
      "Explaining time: 34.5348334312439\n",
      "Number of features that impact on target 0: 12\n",
      "Explanation for target 0: ~CVP_StdDev_high\n",
      "Explanation accuracy: 0.6444444444444445\n",
      "Number of features that impact on target 1: 6\n",
      "Explanation for target 1: ~SVRI_StdDev_medium & ~SVRI_Mean_high & ~SVRI_Mean_medium & ~SVRI_Mean_very_high & ~SVRI_Mean_very_low\n",
      "Explanation accuracy: 0.49206349206349204\n",
      "Type: <class 'torch.Tensor'>\n",
      "(tensor(0.9688), tensor(0.9688))\n"
     ]
    },
    {
     "name": "stderr",
     "output_type": "stream",
     "text": [
      "c:\\Users\\benma\\anaconda3\\lib\\site-packages\\sklearn\\metrics\\_classification.py:1327: UndefinedMetricWarning: Precision is ill-defined and being set to 0.0 due to no predicted samples. Use `zero_division` parameter to control this behavior.\n",
      "  _warn_prf(average, modifier, msg_start, len(result))\n"
     ]
    },
    {
     "name": "stdout",
     "output_type": "stream",
     "text": [
      "Split [2/10]\n",
      "690/173/96\n",
      "[(0, 663), (1, 27)]\n"
     ]
    },
    {
     "name": "stderr",
     "output_type": "stream",
     "text": [
      "GPU available: True, used: True\n",
      "TPU available: False, using: 0 TPU cores\n",
      "IPU available: False, using: 0 IPUs\n",
      "LOCAL_RANK: 0 - CUDA_VISIBLE_DEVICES: [0]\n",
      "\n",
      "  | Name  | Type             | Params\n",
      "-------------------------------------------\n",
      "0 | loss  | CrossEntropyLoss | 0     \n",
      "1 | model | Sequential       | 4.9 K \n",
      "-------------------------------------------\n",
      "4.9 K     Trainable params\n",
      "0         Non-trainable params\n",
      "4.9 K     Total params\n",
      "0.019     Total estimated model params size (MB)\n",
      "c:\\Users\\benma\\anaconda3\\lib\\site-packages\\pytorch_lightning\\callbacks\\model_checkpoint.py:631: UserWarning: Checkpoint directory C:\\Users\\benma\\OneDrive\\Kings\\Modules\\Term 2\\Individual Project\\LEN Individual Project\\Static\\results\\mimicLEN\\explainer exists and is not empty.\n",
      "  rank_zero_warn(f\"Checkpoint directory {dirpath} exists and is not empty.\")\n",
      "c:\\Users\\benma\\anaconda3\\lib\\site-packages\\pytorch_lightning\\trainer\\data_loading.py:132: UserWarning: The dataloader, val_dataloader 0, does not have many workers which may be a bottleneck. Consider increasing the value of the `num_workers` argument` (try 8 which is the number of cpus on this machine) in the `DataLoader` init to improve performance.\n",
      "  rank_zero_warn(\n",
      "Global seed set to 40\n"
     ]
    },
    {
     "name": "stdout",
     "output_type": "stream",
     "text": [
      "[(0, 663), (1, 663)]\n"
     ]
    },
    {
     "name": "stderr",
     "output_type": "stream",
     "text": [
      "c:\\Users\\benma\\anaconda3\\lib\\site-packages\\pytorch_lightning\\trainer\\data_loading.py:132: UserWarning: The dataloader, train_dataloader, does not have many workers which may be a bottleneck. Consider increasing the value of the `num_workers` argument` (try 8 which is the number of cpus on this machine) in the `DataLoader` init to improve performance.\n",
      "  rank_zero_warn(\n",
      "c:\\Users\\benma\\anaconda3\\lib\\site-packages\\pytorch_lightning\\trainer\\data_loading.py:432: UserWarning: The number of training samples (2) is smaller than the logging interval Trainer(log_every_n_steps=50). Set a lower value for log_every_n_steps if you want to see logs for the training epoch.\n",
      "  rank_zero_warn(\n",
      "c:\\Users\\benma\\anaconda3\\lib\\site-packages\\pytorch_lightning\\trainer\\trainer.py:906: LightningDeprecationWarning: `trainer.test(test_dataloaders)` is deprecated in v1.4 and will be removed in v1.6. Use `trainer.test(dataloaders)` instead.\n",
      "  rank_zero_deprecation(\n",
      "LOCAL_RANK: 0 - CUDA_VISIBLE_DEVICES: [0]\n"
     ]
    },
    {
     "name": "stdout",
     "output_type": "stream",
     "text": [
      "\n",
      "Testing...\n",
      "\n",
      "--------------------------------------------------------------------------------\n",
      "DATALOADER:0 TEST RESULTS\n",
      "{'test_acc': 0.9583333134651184, 'test_acc_epoch': 0.9583333134651184}\n",
      "--------------------------------------------------------------------------------\n",
      "\n",
      "Explaining\n",
      "\n"
     ]
    },
    {
     "name": "stderr",
     "output_type": "stream",
     "text": [
      "c:\\Users\\benma\\anaconda3\\lib\\site-packages\\pytorch_lightning\\trainer\\data_loading.py:132: UserWarning: The dataloader, test_dataloader 0, does not have many workers which may be a bottleneck. Consider increasing the value of the `num_workers` argument` (try 8 which is the number of cpus on this machine) in the `DataLoader` init to improve performance.\n",
      "  rank_zero_warn(\n"
     ]
    },
    {
     "name": "stdout",
     "output_type": "stream",
     "text": [
      "Explaining time: 20.33842635154724\n",
      "Number of features that impact on target 0: 8\n",
      "Explanation for target 0: Arterial PaCO2_StdDev_low | Hemoglobin_StdDev_very_low | ~Hemoglobin_StdDev_very_low\n",
      "Explanation accuracy: 0.49206349206349204\n",
      "Number of features that impact on target 1: 10\n",
      "Explanation for target 1: ~Arterial BP [Diastolic]_StdDev_medium & ~Ionized Calcium_StdDev_low\n",
      "Explanation accuracy: 0.36374269005847953\n",
      "Type: <class 'torch.Tensor'>\n",
      "(tensor(0.9583), tensor(0.9583))\n",
      "Split [3/10]\n",
      "690/173/96\n",
      "[(0, 669), (1, 21)]\n"
     ]
    },
    {
     "name": "stderr",
     "output_type": "stream",
     "text": [
      "GPU available: True, used: True\n",
      "TPU available: False, using: 0 TPU cores\n",
      "IPU available: False, using: 0 IPUs\n",
      "LOCAL_RANK: 0 - CUDA_VISIBLE_DEVICES: [0]\n",
      "\n",
      "  | Name  | Type             | Params\n",
      "-------------------------------------------\n",
      "0 | loss  | CrossEntropyLoss | 0     \n",
      "1 | model | Sequential       | 4.9 K \n",
      "-------------------------------------------\n",
      "4.9 K     Trainable params\n",
      "0         Non-trainable params\n",
      "4.9 K     Total params\n",
      "0.019     Total estimated model params size (MB)\n",
      "c:\\Users\\benma\\anaconda3\\lib\\site-packages\\pytorch_lightning\\callbacks\\model_checkpoint.py:631: UserWarning: Checkpoint directory C:\\Users\\benma\\OneDrive\\Kings\\Modules\\Term 2\\Individual Project\\LEN Individual Project\\Static\\results\\mimicLEN\\explainer exists and is not empty.\n",
      "  rank_zero_warn(f\"Checkpoint directory {dirpath} exists and is not empty.\")\n",
      "c:\\Users\\benma\\anaconda3\\lib\\site-packages\\pytorch_lightning\\trainer\\data_loading.py:132: UserWarning: The dataloader, val_dataloader 0, does not have many workers which may be a bottleneck. Consider increasing the value of the `num_workers` argument` (try 8 which is the number of cpus on this machine) in the `DataLoader` init to improve performance.\n",
      "  rank_zero_warn(\n",
      "Global seed set to 40\n"
     ]
    },
    {
     "name": "stdout",
     "output_type": "stream",
     "text": [
      "[(0, 669), (1, 669)]\n"
     ]
    },
    {
     "name": "stderr",
     "output_type": "stream",
     "text": [
      "c:\\Users\\benma\\anaconda3\\lib\\site-packages\\pytorch_lightning\\trainer\\data_loading.py:132: UserWarning: The dataloader, train_dataloader, does not have many workers which may be a bottleneck. Consider increasing the value of the `num_workers` argument` (try 8 which is the number of cpus on this machine) in the `DataLoader` init to improve performance.\n",
      "  rank_zero_warn(\n",
      "c:\\Users\\benma\\anaconda3\\lib\\site-packages\\pytorch_lightning\\trainer\\data_loading.py:432: UserWarning: The number of training samples (2) is smaller than the logging interval Trainer(log_every_n_steps=50). Set a lower value for log_every_n_steps if you want to see logs for the training epoch.\n",
      "  rank_zero_warn(\n",
      "c:\\Users\\benma\\anaconda3\\lib\\site-packages\\pytorch_lightning\\trainer\\trainer.py:906: LightningDeprecationWarning: `trainer.test(test_dataloaders)` is deprecated in v1.4 and will be removed in v1.6. Use `trainer.test(dataloaders)` instead.\n",
      "  rank_zero_deprecation(\n",
      "LOCAL_RANK: 0 - CUDA_VISIBLE_DEVICES: [0]\n"
     ]
    },
    {
     "name": "stdout",
     "output_type": "stream",
     "text": [
      "\n",
      "Testing...\n",
      "\n",
      "--------------------------------------------------------------------------------\n",
      "DATALOADER:0 TEST RESULTS\n",
      "{'test_acc': 0.96875, 'test_acc_epoch': 0.96875}\n",
      "--------------------------------------------------------------------------------\n",
      "\n",
      "Explaining\n",
      "\n"
     ]
    },
    {
     "name": "stderr",
     "output_type": "stream",
     "text": [
      "c:\\Users\\benma\\anaconda3\\lib\\site-packages\\pytorch_lightning\\trainer\\data_loading.py:132: UserWarning: The dataloader, test_dataloader 0, does not have many workers which may be a bottleneck. Consider increasing the value of the `num_workers` argument` (try 8 which is the number of cpus on this machine) in the `DataLoader` init to improve performance.\n",
      "  rank_zero_warn(\n"
     ]
    },
    {
     "name": "stdout",
     "output_type": "stream",
     "text": [
      "Explaining time: 9.75868558883667\n",
      "Number of features that impact on target 0: 6\n",
      "Explanation for target 0: Arterial BP [Diastolic]_StdDev_low | Arterial BP [Diastolic]_Mean_medium | Arterial BP [Diastolic]_Mean_very_low | SVR_StdDev_low | ~Arterial BP [Diastolic]_StdDev_very_high\n",
      "Explanation accuracy: 0.48663101604278075\n",
      "Number of features that impact on target 1: 7\n",
      "Explanation for target 1: ~Arterial BP Mean_StdDev_medium & ~Arterial PaCO2_StdDev_medium & ~Arterial pH_StdDev_very_low & ~Ionized Calcium_Mean_high & ~Platelets_Mean_low & ~SVRI_Mean_low\n",
      "Explanation accuracy: 0.5805042016806723\n",
      "Type: <class 'torch.Tensor'>\n",
      "(tensor(0.9688), tensor(0.9688))\n"
     ]
    },
    {
     "name": "stderr",
     "output_type": "stream",
     "text": [
      "c:\\Users\\benma\\anaconda3\\lib\\site-packages\\sklearn\\metrics\\_classification.py:1327: UndefinedMetricWarning: Precision is ill-defined and being set to 0.0 due to no predicted samples. Use `zero_division` parameter to control this behavior.\n",
      "  _warn_prf(average, modifier, msg_start, len(result))\n"
     ]
    },
    {
     "name": "stdout",
     "output_type": "stream",
     "text": [
      "Split [4/10]\n",
      "690/173/96\n",
      "[(0, 662), (1, 28)]\n"
     ]
    },
    {
     "name": "stderr",
     "output_type": "stream",
     "text": [
      "GPU available: True, used: True\n",
      "TPU available: False, using: 0 TPU cores\n",
      "IPU available: False, using: 0 IPUs\n",
      "LOCAL_RANK: 0 - CUDA_VISIBLE_DEVICES: [0]\n",
      "\n",
      "  | Name  | Type             | Params\n",
      "-------------------------------------------\n",
      "0 | loss  | CrossEntropyLoss | 0     \n",
      "1 | model | Sequential       | 4.9 K \n",
      "-------------------------------------------\n",
      "4.9 K     Trainable params\n",
      "0         Non-trainable params\n",
      "4.9 K     Total params\n",
      "0.019     Total estimated model params size (MB)\n",
      "c:\\Users\\benma\\anaconda3\\lib\\site-packages\\pytorch_lightning\\callbacks\\model_checkpoint.py:631: UserWarning: Checkpoint directory C:\\Users\\benma\\OneDrive\\Kings\\Modules\\Term 2\\Individual Project\\LEN Individual Project\\Static\\results\\mimicLEN\\explainer exists and is not empty.\n",
      "  rank_zero_warn(f\"Checkpoint directory {dirpath} exists and is not empty.\")\n",
      "c:\\Users\\benma\\anaconda3\\lib\\site-packages\\pytorch_lightning\\trainer\\data_loading.py:132: UserWarning: The dataloader, val_dataloader 0, does not have many workers which may be a bottleneck. Consider increasing the value of the `num_workers` argument` (try 8 which is the number of cpus on this machine) in the `DataLoader` init to improve performance.\n",
      "  rank_zero_warn(\n",
      "Global seed set to 40\n"
     ]
    },
    {
     "name": "stdout",
     "output_type": "stream",
     "text": [
      "[(0, 662), (1, 662)]\n"
     ]
    },
    {
     "name": "stderr",
     "output_type": "stream",
     "text": [
      "c:\\Users\\benma\\anaconda3\\lib\\site-packages\\pytorch_lightning\\trainer\\data_loading.py:132: UserWarning: The dataloader, train_dataloader, does not have many workers which may be a bottleneck. Consider increasing the value of the `num_workers` argument` (try 8 which is the number of cpus on this machine) in the `DataLoader` init to improve performance.\n",
      "  rank_zero_warn(\n",
      "c:\\Users\\benma\\anaconda3\\lib\\site-packages\\pytorch_lightning\\trainer\\data_loading.py:432: UserWarning: The number of training samples (2) is smaller than the logging interval Trainer(log_every_n_steps=50). Set a lower value for log_every_n_steps if you want to see logs for the training epoch.\n",
      "  rank_zero_warn(\n",
      "c:\\Users\\benma\\anaconda3\\lib\\site-packages\\pytorch_lightning\\trainer\\trainer.py:906: LightningDeprecationWarning: `trainer.test(test_dataloaders)` is deprecated in v1.4 and will be removed in v1.6. Use `trainer.test(dataloaders)` instead.\n",
      "  rank_zero_deprecation(\n",
      "LOCAL_RANK: 0 - CUDA_VISIBLE_DEVICES: [0]\n"
     ]
    },
    {
     "name": "stdout",
     "output_type": "stream",
     "text": [
      "\n",
      "Testing...\n",
      "\n",
      "--------------------------------------------------------------------------------\n",
      "DATALOADER:0 TEST RESULTS\n",
      "{'test_acc': 0.9270833134651184, 'test_acc_epoch': 0.9270833134651184}\n",
      "--------------------------------------------------------------------------------\n",
      "\n",
      "Explaining\n",
      "\n"
     ]
    },
    {
     "name": "stderr",
     "output_type": "stream",
     "text": [
      "c:\\Users\\benma\\anaconda3\\lib\\site-packages\\pytorch_lightning\\trainer\\data_loading.py:132: UserWarning: The dataloader, test_dataloader 0, does not have many workers which may be a bottleneck. Consider increasing the value of the `num_workers` argument` (try 8 which is the number of cpus on this machine) in the `DataLoader` init to improve performance.\n",
      "  rank_zero_warn(\n"
     ]
    },
    {
     "name": "stdout",
     "output_type": "stream",
     "text": [
      "Explaining time: 17.53336501121521\n",
      "Number of features that impact on target 0: 5\n",
      "Explanation for target 0: Arterial BP [Diastolic]_StdDev_low | Ionized Calcium_StdDev_low | ~Arterial BP [Diastolic]_StdDev_low\n",
      "Explanation accuracy: 0.49206349206349204\n",
      "Number of features that impact on target 1: 11\n",
      "Explanation for target 1: ~Arterial BP Mean_Mean_medium & ~Arterial BP [Diastolic]_StdDev_very_high & ~Arterial pH_StdDev_medium & ~Arterial pH_Mean_very_high & ~Platelets_Mean_high\n",
      "Explanation accuracy: 0.40372670807453426\n",
      "Type: <class 'torch.Tensor'>\n",
      "(tensor(0.9271), tensor(0.9271))\n",
      "Split [5/10]\n",
      "690/173/96\n",
      "[(0, 661), (1, 29)]\n"
     ]
    },
    {
     "name": "stderr",
     "output_type": "stream",
     "text": [
      "GPU available: True, used: True\n",
      "TPU available: False, using: 0 TPU cores\n",
      "IPU available: False, using: 0 IPUs\n",
      "LOCAL_RANK: 0 - CUDA_VISIBLE_DEVICES: [0]\n",
      "\n",
      "  | Name  | Type             | Params\n",
      "-------------------------------------------\n",
      "0 | loss  | CrossEntropyLoss | 0     \n",
      "1 | model | Sequential       | 4.9 K \n",
      "-------------------------------------------\n",
      "4.9 K     Trainable params\n",
      "0         Non-trainable params\n",
      "4.9 K     Total params\n",
      "0.019     Total estimated model params size (MB)\n",
      "c:\\Users\\benma\\anaconda3\\lib\\site-packages\\pytorch_lightning\\callbacks\\model_checkpoint.py:631: UserWarning: Checkpoint directory C:\\Users\\benma\\OneDrive\\Kings\\Modules\\Term 2\\Individual Project\\LEN Individual Project\\Static\\results\\mimicLEN\\explainer exists and is not empty.\n",
      "  rank_zero_warn(f\"Checkpoint directory {dirpath} exists and is not empty.\")\n",
      "c:\\Users\\benma\\anaconda3\\lib\\site-packages\\pytorch_lightning\\trainer\\data_loading.py:132: UserWarning: The dataloader, val_dataloader 0, does not have many workers which may be a bottleneck. Consider increasing the value of the `num_workers` argument` (try 8 which is the number of cpus on this machine) in the `DataLoader` init to improve performance.\n",
      "  rank_zero_warn(\n",
      "Global seed set to 40\n"
     ]
    },
    {
     "name": "stdout",
     "output_type": "stream",
     "text": [
      "[(0, 661), (1, 661)]\n"
     ]
    },
    {
     "name": "stderr",
     "output_type": "stream",
     "text": [
      "c:\\Users\\benma\\anaconda3\\lib\\site-packages\\pytorch_lightning\\trainer\\data_loading.py:132: UserWarning: The dataloader, train_dataloader, does not have many workers which may be a bottleneck. Consider increasing the value of the `num_workers` argument` (try 8 which is the number of cpus on this machine) in the `DataLoader` init to improve performance.\n",
      "  rank_zero_warn(\n",
      "c:\\Users\\benma\\anaconda3\\lib\\site-packages\\pytorch_lightning\\trainer\\data_loading.py:432: UserWarning: The number of training samples (2) is smaller than the logging interval Trainer(log_every_n_steps=50). Set a lower value for log_every_n_steps if you want to see logs for the training epoch.\n",
      "  rank_zero_warn(\n",
      "c:\\Users\\benma\\anaconda3\\lib\\site-packages\\pytorch_lightning\\trainer\\trainer.py:906: LightningDeprecationWarning: `trainer.test(test_dataloaders)` is deprecated in v1.4 and will be removed in v1.6. Use `trainer.test(dataloaders)` instead.\n",
      "  rank_zero_deprecation(\n",
      "LOCAL_RANK: 0 - CUDA_VISIBLE_DEVICES: [0]\n"
     ]
    },
    {
     "name": "stdout",
     "output_type": "stream",
     "text": [
      "\n",
      "Testing...\n",
      "\n",
      "--------------------------------------------------------------------------------\n",
      "DATALOADER:0 TEST RESULTS\n",
      "{'test_acc': 0.9375, 'test_acc_epoch': 0.9375}\n",
      "--------------------------------------------------------------------------------\n",
      "\n",
      "Explaining\n",
      "\n"
     ]
    },
    {
     "name": "stderr",
     "output_type": "stream",
     "text": [
      "c:\\Users\\benma\\anaconda3\\lib\\site-packages\\pytorch_lightning\\trainer\\data_loading.py:132: UserWarning: The dataloader, test_dataloader 0, does not have many workers which may be a bottleneck. Consider increasing the value of the `num_workers` argument` (try 8 which is the number of cpus on this machine) in the `DataLoader` init to improve performance.\n",
      "  rank_zero_warn(\n"
     ]
    },
    {
     "name": "stdout",
     "output_type": "stream",
     "text": [
      "Explaining time: 10.315515995025635\n",
      "Number of features that impact on target 0: 5\n",
      "Explanation for target 0: Arterial PaCO2_StdDev_medium | Arterial PaCO2_Mean_medium | ~Platelets_Mean_medium\n",
      "Explanation accuracy: 0.46067415730337086\n",
      "Number of features that impact on target 1: 3\n",
      "Explanation for target 1: CVP_Mean_very_high & ~Arterial pH_StdDev_very_low & ~Ionized Calcium_Mean_high\n",
      "Explanation accuracy: 0.47540983606557374\n",
      "Type: <class 'torch.Tensor'>\n",
      "(tensor(0.9375), tensor(0.9375))\n",
      "Split [6/10]\n",
      "690/173/96\n",
      "[(0, 664), (1, 26)]\n"
     ]
    },
    {
     "name": "stderr",
     "output_type": "stream",
     "text": [
      "GPU available: True, used: True\n",
      "TPU available: False, using: 0 TPU cores\n",
      "IPU available: False, using: 0 IPUs\n",
      "LOCAL_RANK: 0 - CUDA_VISIBLE_DEVICES: [0]\n",
      "\n",
      "  | Name  | Type             | Params\n",
      "-------------------------------------------\n",
      "0 | loss  | CrossEntropyLoss | 0     \n",
      "1 | model | Sequential       | 4.9 K \n",
      "-------------------------------------------\n",
      "4.9 K     Trainable params\n",
      "0         Non-trainable params\n",
      "4.9 K     Total params\n",
      "0.019     Total estimated model params size (MB)\n",
      "c:\\Users\\benma\\anaconda3\\lib\\site-packages\\pytorch_lightning\\callbacks\\model_checkpoint.py:631: UserWarning: Checkpoint directory C:\\Users\\benma\\OneDrive\\Kings\\Modules\\Term 2\\Individual Project\\LEN Individual Project\\Static\\results\\mimicLEN\\explainer exists and is not empty.\n",
      "  rank_zero_warn(f\"Checkpoint directory {dirpath} exists and is not empty.\")\n",
      "c:\\Users\\benma\\anaconda3\\lib\\site-packages\\pytorch_lightning\\trainer\\data_loading.py:132: UserWarning: The dataloader, val_dataloader 0, does not have many workers which may be a bottleneck. Consider increasing the value of the `num_workers` argument` (try 8 which is the number of cpus on this machine) in the `DataLoader` init to improve performance.\n",
      "  rank_zero_warn(\n",
      "Global seed set to 40\n"
     ]
    },
    {
     "name": "stdout",
     "output_type": "stream",
     "text": [
      "[(0, 664), (1, 664)]\n"
     ]
    },
    {
     "name": "stderr",
     "output_type": "stream",
     "text": [
      "c:\\Users\\benma\\anaconda3\\lib\\site-packages\\pytorch_lightning\\trainer\\data_loading.py:132: UserWarning: The dataloader, train_dataloader, does not have many workers which may be a bottleneck. Consider increasing the value of the `num_workers` argument` (try 8 which is the number of cpus on this machine) in the `DataLoader` init to improve performance.\n",
      "  rank_zero_warn(\n",
      "c:\\Users\\benma\\anaconda3\\lib\\site-packages\\pytorch_lightning\\trainer\\data_loading.py:432: UserWarning: The number of training samples (2) is smaller than the logging interval Trainer(log_every_n_steps=50). Set a lower value for log_every_n_steps if you want to see logs for the training epoch.\n",
      "  rank_zero_warn(\n",
      "c:\\Users\\benma\\anaconda3\\lib\\site-packages\\pytorch_lightning\\trainer\\trainer.py:906: LightningDeprecationWarning: `trainer.test(test_dataloaders)` is deprecated in v1.4 and will be removed in v1.6. Use `trainer.test(dataloaders)` instead.\n",
      "  rank_zero_deprecation(\n",
      "LOCAL_RANK: 0 - CUDA_VISIBLE_DEVICES: [0]\n"
     ]
    },
    {
     "name": "stdout",
     "output_type": "stream",
     "text": [
      "\n",
      "Testing...\n",
      "\n",
      "--------------------------------------------------------------------------------\n",
      "DATALOADER:0 TEST RESULTS\n",
      "{'test_acc': 0.9583333134651184, 'test_acc_epoch': 0.9583333134651184}\n",
      "--------------------------------------------------------------------------------\n",
      "\n",
      "Explaining\n",
      "\n"
     ]
    },
    {
     "name": "stderr",
     "output_type": "stream",
     "text": [
      "c:\\Users\\benma\\anaconda3\\lib\\site-packages\\pytorch_lightning\\trainer\\data_loading.py:132: UserWarning: The dataloader, test_dataloader 0, does not have many workers which may be a bottleneck. Consider increasing the value of the `num_workers` argument` (try 8 which is the number of cpus on this machine) in the `DataLoader` init to improve performance.\n",
      "  rank_zero_warn(\n"
     ]
    },
    {
     "name": "stdout",
     "output_type": "stream",
     "text": [
      "Explaining time: 152.74969744682312\n",
      "Number of features that impact on target 0: 18\n",
      "Explanation for target 0: Arterial BP [Systolic]_Mean_low | Arterial PaCO2_StdDev_high | CVP_Mean_very_low | Platelets_StdDev_low | Platelets_Mean_medium\n",
      "Explanation accuracy: 0.46368715083798884\n",
      "Number of features that impact on target 1: 4\n",
      "Explanation for target 1: None\n",
      "Explanation accuracy: 0\n",
      "Type: <class 'torch.Tensor'>\n",
      "(tensor(0.9583), tensor(0.9583))\n"
     ]
    },
    {
     "name": "stderr",
     "output_type": "stream",
     "text": [
      "c:\\Users\\benma\\anaconda3\\lib\\site-packages\\sklearn\\metrics\\_classification.py:1327: UndefinedMetricWarning: Precision is ill-defined and being set to 0.0 due to no predicted samples. Use `zero_division` parameter to control this behavior.\n",
      "  _warn_prf(average, modifier, msg_start, len(result))\n"
     ]
    },
    {
     "name": "stdout",
     "output_type": "stream",
     "text": [
      "Split [7/10]\n",
      "690/173/96\n",
      "[(0, 666), (1, 24)]\n"
     ]
    },
    {
     "name": "stderr",
     "output_type": "stream",
     "text": [
      "GPU available: True, used: True\n",
      "TPU available: False, using: 0 TPU cores\n",
      "IPU available: False, using: 0 IPUs\n",
      "LOCAL_RANK: 0 - CUDA_VISIBLE_DEVICES: [0]\n",
      "\n",
      "  | Name  | Type             | Params\n",
      "-------------------------------------------\n",
      "0 | loss  | CrossEntropyLoss | 0     \n",
      "1 | model | Sequential       | 4.9 K \n",
      "-------------------------------------------\n",
      "4.9 K     Trainable params\n",
      "0         Non-trainable params\n",
      "4.9 K     Total params\n",
      "0.019     Total estimated model params size (MB)\n",
      "c:\\Users\\benma\\anaconda3\\lib\\site-packages\\pytorch_lightning\\callbacks\\model_checkpoint.py:631: UserWarning: Checkpoint directory C:\\Users\\benma\\OneDrive\\Kings\\Modules\\Term 2\\Individual Project\\LEN Individual Project\\Static\\results\\mimicLEN\\explainer exists and is not empty.\n",
      "  rank_zero_warn(f\"Checkpoint directory {dirpath} exists and is not empty.\")\n",
      "c:\\Users\\benma\\anaconda3\\lib\\site-packages\\pytorch_lightning\\trainer\\data_loading.py:132: UserWarning: The dataloader, val_dataloader 0, does not have many workers which may be a bottleneck. Consider increasing the value of the `num_workers` argument` (try 8 which is the number of cpus on this machine) in the `DataLoader` init to improve performance.\n",
      "  rank_zero_warn(\n",
      "Global seed set to 40\n"
     ]
    },
    {
     "name": "stdout",
     "output_type": "stream",
     "text": [
      "[(0, 666), (1, 666)]\n"
     ]
    },
    {
     "name": "stderr",
     "output_type": "stream",
     "text": [
      "c:\\Users\\benma\\anaconda3\\lib\\site-packages\\pytorch_lightning\\trainer\\data_loading.py:132: UserWarning: The dataloader, train_dataloader, does not have many workers which may be a bottleneck. Consider increasing the value of the `num_workers` argument` (try 8 which is the number of cpus on this machine) in the `DataLoader` init to improve performance.\n",
      "  rank_zero_warn(\n",
      "c:\\Users\\benma\\anaconda3\\lib\\site-packages\\pytorch_lightning\\trainer\\data_loading.py:432: UserWarning: The number of training samples (2) is smaller than the logging interval Trainer(log_every_n_steps=50). Set a lower value for log_every_n_steps if you want to see logs for the training epoch.\n",
      "  rank_zero_warn(\n",
      "c:\\Users\\benma\\anaconda3\\lib\\site-packages\\pytorch_lightning\\trainer\\trainer.py:906: LightningDeprecationWarning: `trainer.test(test_dataloaders)` is deprecated in v1.4 and will be removed in v1.6. Use `trainer.test(dataloaders)` instead.\n",
      "  rank_zero_deprecation(\n",
      "LOCAL_RANK: 0 - CUDA_VISIBLE_DEVICES: [0]\n"
     ]
    },
    {
     "name": "stdout",
     "output_type": "stream",
     "text": [
      "\n",
      "Testing...\n",
      "\n",
      "--------------------------------------------------------------------------------\n",
      "DATALOADER:0 TEST RESULTS\n",
      "{'test_acc': 0.9479166865348816, 'test_acc_epoch': 0.9479166865348816}\n",
      "--------------------------------------------------------------------------------\n",
      "\n",
      "Explaining\n",
      "\n"
     ]
    },
    {
     "name": "stderr",
     "output_type": "stream",
     "text": [
      "c:\\Users\\benma\\anaconda3\\lib\\site-packages\\pytorch_lightning\\trainer\\data_loading.py:132: UserWarning: The dataloader, test_dataloader 0, does not have many workers which may be a bottleneck. Consider increasing the value of the `num_workers` argument` (try 8 which is the number of cpus on this machine) in the `DataLoader` init to improve performance.\n",
      "  rank_zero_warn(\n"
     ]
    },
    {
     "name": "stdout",
     "output_type": "stream",
     "text": [
      "Explaining time: 13.906607866287231\n",
      "Number of features that impact on target 0: 6\n",
      "Explanation for target 0: Arterial BP [Diastolic]_StdDev_medium | Ionized Calcium_StdDev_low | SVR_Mean_low | ~SVRI_StdDev_medium\n",
      "Explanation accuracy: 0.6293436293436294\n",
      "Number of features that impact on target 1: 7\n",
      "Explanation for target 1: ~SVRI_StdDev_very_high & ~SVRI_Mean_medium & ~SVRI_Mean_very_low\n",
      "Explanation accuracy: 0.4262639315134873\n",
      "Type: <class 'torch.Tensor'>\n",
      "(tensor(0.9479), tensor(0.9479))\n",
      "Split [8/10]\n",
      "690/173/96\n",
      "[(0, 665), (1, 25)]\n"
     ]
    },
    {
     "name": "stderr",
     "output_type": "stream",
     "text": [
      "GPU available: True, used: True\n",
      "TPU available: False, using: 0 TPU cores\n",
      "IPU available: False, using: 0 IPUs\n",
      "LOCAL_RANK: 0 - CUDA_VISIBLE_DEVICES: [0]\n",
      "\n",
      "  | Name  | Type             | Params\n",
      "-------------------------------------------\n",
      "0 | loss  | CrossEntropyLoss | 0     \n",
      "1 | model | Sequential       | 4.9 K \n",
      "-------------------------------------------\n",
      "4.9 K     Trainable params\n",
      "0         Non-trainable params\n",
      "4.9 K     Total params\n",
      "0.019     Total estimated model params size (MB)\n",
      "c:\\Users\\benma\\anaconda3\\lib\\site-packages\\pytorch_lightning\\callbacks\\model_checkpoint.py:631: UserWarning: Checkpoint directory C:\\Users\\benma\\OneDrive\\Kings\\Modules\\Term 2\\Individual Project\\LEN Individual Project\\Static\\results\\mimicLEN\\explainer exists and is not empty.\n",
      "  rank_zero_warn(f\"Checkpoint directory {dirpath} exists and is not empty.\")\n",
      "c:\\Users\\benma\\anaconda3\\lib\\site-packages\\pytorch_lightning\\trainer\\data_loading.py:132: UserWarning: The dataloader, val_dataloader 0, does not have many workers which may be a bottleneck. Consider increasing the value of the `num_workers` argument` (try 8 which is the number of cpus on this machine) in the `DataLoader` init to improve performance.\n",
      "  rank_zero_warn(\n",
      "Global seed set to 40\n"
     ]
    },
    {
     "name": "stdout",
     "output_type": "stream",
     "text": [
      "[(0, 665), (1, 665)]\n"
     ]
    },
    {
     "name": "stderr",
     "output_type": "stream",
     "text": [
      "c:\\Users\\benma\\anaconda3\\lib\\site-packages\\pytorch_lightning\\trainer\\data_loading.py:132: UserWarning: The dataloader, train_dataloader, does not have many workers which may be a bottleneck. Consider increasing the value of the `num_workers` argument` (try 8 which is the number of cpus on this machine) in the `DataLoader` init to improve performance.\n",
      "  rank_zero_warn(\n",
      "c:\\Users\\benma\\anaconda3\\lib\\site-packages\\pytorch_lightning\\trainer\\data_loading.py:432: UserWarning: The number of training samples (2) is smaller than the logging interval Trainer(log_every_n_steps=50). Set a lower value for log_every_n_steps if you want to see logs for the training epoch.\n",
      "  rank_zero_warn(\n",
      "c:\\Users\\benma\\anaconda3\\lib\\site-packages\\pytorch_lightning\\trainer\\trainer.py:906: LightningDeprecationWarning: `trainer.test(test_dataloaders)` is deprecated in v1.4 and will be removed in v1.6. Use `trainer.test(dataloaders)` instead.\n",
      "  rank_zero_deprecation(\n",
      "LOCAL_RANK: 0 - CUDA_VISIBLE_DEVICES: [0]\n"
     ]
    },
    {
     "name": "stdout",
     "output_type": "stream",
     "text": [
      "\n",
      "Testing...\n",
      "\n",
      "--------------------------------------------------------------------------------\n",
      "DATALOADER:0 TEST RESULTS\n",
      "{'test_acc': 0.9583333134651184, 'test_acc_epoch': 0.9583333134651184}\n",
      "--------------------------------------------------------------------------------\n",
      "\n",
      "Explaining\n",
      "\n"
     ]
    },
    {
     "name": "stderr",
     "output_type": "stream",
     "text": [
      "c:\\Users\\benma\\anaconda3\\lib\\site-packages\\pytorch_lightning\\trainer\\data_loading.py:132: UserWarning: The dataloader, test_dataloader 0, does not have many workers which may be a bottleneck. Consider increasing the value of the `num_workers` argument` (try 8 which is the number of cpus on this machine) in the `DataLoader` init to improve performance.\n",
      "  rank_zero_warn(\n"
     ]
    },
    {
     "name": "stdout",
     "output_type": "stream",
     "text": [
      "Explaining time: 25.907658576965332\n",
      "Number of features that impact on target 0: 4\n",
      "Explanation for target 0: Arterial BP [Diastolic]_StdDev_medium | ~SVR_StdDev_very_high\n",
      "Explanation accuracy: 0.4838709677419355\n",
      "Number of features that impact on target 1: 14\n",
      "Explanation for target 1: ~Arterial BP Mean_StdDev_medium & ~Arterial BP Mean_Mean_medium & ~Arterial BP [Diastolic]_StdDev_very_low & ~Arterial PaCO2_StdDev_medium & ~Arterial PaCO2_Mean_low & ~Arterial pH_StdDev_very_low & ~CVP_StdDev_very_low & ~Hemoglobin_StdDev_low & ~Ionized Calcium_Mean_high & ~Platelets_StdDev_medium & ~SVRI_StdDev_medium\n",
      "Explanation accuracy: 0.4866310160427807\n",
      "Type: <class 'torch.Tensor'>\n",
      "(tensor(0.9583), tensor(0.9583))\n"
     ]
    },
    {
     "name": "stderr",
     "output_type": "stream",
     "text": [
      "c:\\Users\\benma\\anaconda3\\lib\\site-packages\\sklearn\\metrics\\_classification.py:1327: UndefinedMetricWarning: Precision is ill-defined and being set to 0.0 due to no predicted samples. Use `zero_division` parameter to control this behavior.\n",
      "  _warn_prf(average, modifier, msg_start, len(result))\n"
     ]
    },
    {
     "name": "stdout",
     "output_type": "stream",
     "text": [
      "Split [9/10]\n",
      "690/173/96\n",
      "[(0, 669), (1, 21)]\n"
     ]
    },
    {
     "name": "stderr",
     "output_type": "stream",
     "text": [
      "GPU available: True, used: True\n",
      "TPU available: False, using: 0 TPU cores\n",
      "IPU available: False, using: 0 IPUs\n",
      "LOCAL_RANK: 0 - CUDA_VISIBLE_DEVICES: [0]\n",
      "\n",
      "  | Name  | Type             | Params\n",
      "-------------------------------------------\n",
      "0 | loss  | CrossEntropyLoss | 0     \n",
      "1 | model | Sequential       | 4.9 K \n",
      "-------------------------------------------\n",
      "4.9 K     Trainable params\n",
      "0         Non-trainable params\n",
      "4.9 K     Total params\n",
      "0.019     Total estimated model params size (MB)\n",
      "c:\\Users\\benma\\anaconda3\\lib\\site-packages\\pytorch_lightning\\callbacks\\model_checkpoint.py:631: UserWarning: Checkpoint directory C:\\Users\\benma\\OneDrive\\Kings\\Modules\\Term 2\\Individual Project\\LEN Individual Project\\Static\\results\\mimicLEN\\explainer exists and is not empty.\n",
      "  rank_zero_warn(f\"Checkpoint directory {dirpath} exists and is not empty.\")\n",
      "c:\\Users\\benma\\anaconda3\\lib\\site-packages\\pytorch_lightning\\trainer\\data_loading.py:132: UserWarning: The dataloader, val_dataloader 0, does not have many workers which may be a bottleneck. Consider increasing the value of the `num_workers` argument` (try 8 which is the number of cpus on this machine) in the `DataLoader` init to improve performance.\n",
      "  rank_zero_warn(\n",
      "Global seed set to 40\n"
     ]
    },
    {
     "name": "stdout",
     "output_type": "stream",
     "text": [
      "[(0, 669), (1, 669)]\n"
     ]
    },
    {
     "name": "stderr",
     "output_type": "stream",
     "text": [
      "c:\\Users\\benma\\anaconda3\\lib\\site-packages\\pytorch_lightning\\trainer\\data_loading.py:132: UserWarning: The dataloader, train_dataloader, does not have many workers which may be a bottleneck. Consider increasing the value of the `num_workers` argument` (try 8 which is the number of cpus on this machine) in the `DataLoader` init to improve performance.\n",
      "  rank_zero_warn(\n",
      "c:\\Users\\benma\\anaconda3\\lib\\site-packages\\pytorch_lightning\\trainer\\data_loading.py:432: UserWarning: The number of training samples (2) is smaller than the logging interval Trainer(log_every_n_steps=50). Set a lower value for log_every_n_steps if you want to see logs for the training epoch.\n",
      "  rank_zero_warn(\n",
      "c:\\Users\\benma\\anaconda3\\lib\\site-packages\\pytorch_lightning\\trainer\\trainer.py:906: LightningDeprecationWarning: `trainer.test(test_dataloaders)` is deprecated in v1.4 and will be removed in v1.6. Use `trainer.test(dataloaders)` instead.\n",
      "  rank_zero_deprecation(\n",
      "LOCAL_RANK: 0 - CUDA_VISIBLE_DEVICES: [0]\n"
     ]
    },
    {
     "name": "stdout",
     "output_type": "stream",
     "text": [
      "\n",
      "Testing...\n",
      "\n",
      "--------------------------------------------------------------------------------\n",
      "DATALOADER:0 TEST RESULTS\n",
      "{'test_acc': 0.9583333134651184, 'test_acc_epoch': 0.9583333134651184}\n",
      "--------------------------------------------------------------------------------\n",
      "\n",
      "Explaining\n",
      "\n"
     ]
    },
    {
     "name": "stderr",
     "output_type": "stream",
     "text": [
      "c:\\Users\\benma\\anaconda3\\lib\\site-packages\\pytorch_lightning\\trainer\\data_loading.py:132: UserWarning: The dataloader, test_dataloader 0, does not have many workers which may be a bottleneck. Consider increasing the value of the `num_workers` argument` (try 8 which is the number of cpus on this machine) in the `DataLoader` init to improve performance.\n",
      "  rank_zero_warn(\n"
     ]
    }
   ],
   "source": [
    "\n",
    "\n",
    "for file in files[:1]:\n",
    "\n",
    "    print(f\"Training {file}\\n\")\n",
    "\n",
    "    data = datasets[file]\n",
    "\n",
    "    if file == \"staticData.csv\":\n",
    "        targetName = \"deathperiod\"\n",
    "    else:\n",
    "        targetName = \"Mortality14Days\"\n",
    "\n",
    "    targetSeries = data[targetName]\n",
    "    data = data.drop(columns=[targetName])\n",
    "\n",
    "\n",
    "    dataTensor = torch.FloatTensor(data.to_numpy())\n",
    "    targetTensor = one_hot(torch.tensor(targetSeries.values).to(torch.long)).to(torch.float)\n",
    "\n",
    "\n",
    "    dataset = TensorDataset(dataTensor, targetTensor)\n",
    "    train_size = int(0.8 * len(dataset))\n",
    "\n",
    "    val_size = (len(dataset) - train_size) // 2\n",
    "    test_size = len(dataset) - train_size - val_size\n",
    "\n",
    "    train_data, val_data, test_data = random_split(dataset, [train_size, val_size, test_size])\n",
    "\n",
    "    train_loader = DataLoader(train_data, batch_size=train_size)\n",
    "    val_loader = DataLoader(val_data, batch_size=val_size)\n",
    "    test_loader = DataLoader(test_data, batch_size=test_size)\n",
    "\n",
    "\n",
    "\n",
    "    n_concepts = next(iter(train_loader))[0].shape[1]\n",
    "    # self.n_concepts = n_concepts\n",
    "\n",
    "\n",
    "    n_classes = targetTensor.shape[1]\n",
    "    # self.n_classes = n_classes\n",
    "\n",
    "    print(\"Training on {} classes\".format(n_classes))\n",
    "\n",
    "    print(\"Num concepts: {}\".format(n_concepts))\n",
    "    print(\"Num classes: {}\".format(n_classes))\n",
    "\n",
    "    base_dir = f'./results/mimicLEN/explainer'\n",
    "    os.makedirs(base_dir, exist_ok=True)\n",
    "\n",
    "    seed_everything(40)\n",
    "\n",
    "    n_splits = 10\n",
    "\n",
    "    # self.n_splits = n_splits\n",
    "\n",
    "    skf = StratifiedKFold(n_splits=n_splits, shuffle=True, random_state=42)\n",
    "\n",
    "    # self.skf = skf\n",
    "\n",
    "    results_list = []\n",
    "    feature_selection = []\n",
    "    explanations = {i: [] for i in range(n_classes)}\n",
    "\n",
    "    explanations_list = []\n",
    "    scores_list = []\n",
    "\n",
    "    x = dataTensor\n",
    "    y = targetTensor\n",
    "\n",
    "\n",
    "    for split, (trainval_index, test_index) in enumerate(skf.split(x.cpu().detach().numpy(),\n",
    "                                                            y.argmax(dim=1).cpu().detach().numpy())):\n",
    "        \n",
    "        # print(x)\n",
    "\n",
    "        # x = x.cpu()\n",
    "\n",
    "        # print(x)\n",
    "        # x = x.to(torch.device(\"cpu\"))\n",
    "        # y = y.float()\n",
    "        # y = y.to(torch.device(\"cpu\"))\n",
    "        # y = one_hot(y.to(torch.int64)).to(torch.float)\n",
    "\n",
    "        # print(x.shape)\n",
    "        # print(y, y.shape)\n",
    "\n",
    "\n",
    "        print(f'Split [{split + 1}/{n_splits}]')\n",
    "        x_trainval, x_test = torch.FloatTensor(x[trainval_index]), torch.FloatTensor(x[test_index])\n",
    "        y_trainval, y_test = torch.FloatTensor(y[trainval_index]), torch.FloatTensor(y[test_index])\n",
    "        x_train_unbalanced, x_val, y_train_unbalanced, y_val = train_test_split(x_trainval, y_trainval, test_size=0.2, random_state=42)\n",
    "        print(f'{len(y_train_unbalanced)}/{len(y_val)}/{len(y_test)}')\n",
    "\n",
    "\n",
    "        # Rebalancing training set\n",
    "        obj = imblearn.over_sampling.SMOTEN(random_state=0, n_jobs=4)\n",
    "\n",
    "        print(sorted(Counter(torch.argmax(y_train_unbalanced, axis=1).numpy()).items()))\n",
    "\n",
    "        x_train, y_train = obj.fit_resample(x_train_unbalanced.numpy(), torch.argmax(y_train_unbalanced, axis=1).numpy())\n",
    "\n",
    "        print(sorted(Counter(y_train).items()))\n",
    "\n",
    "        y_train = one_hot(torch.tensor(y_train).to(torch.long)).to(torch.float)\n",
    "        x_train = torch.FloatTensor(x_train)\n",
    "\n",
    "        train_data = TensorDataset(x_train, y_train)\n",
    "        val_data = TensorDataset(x_val, y_val)\n",
    "        test_data = TensorDataset(x_test, y_test)\n",
    "        train_loader = DataLoader(train_data, batch_size=train_size)\n",
    "        val_loader = DataLoader(val_data, batch_size=val_size)\n",
    "        test_loader = DataLoader(test_data, batch_size=test_size)\n",
    "\n",
    "        checkpoint_callback = ModelCheckpoint(dirpath=base_dir, monitor='val_loss', save_top_k=1)\n",
    "\n",
    "        # Constructs the way that the model will be trained\n",
    "        trainer = Trainer(max_epochs=200, gpus=1, auto_lr_find=True, deterministic=True,\n",
    "                        check_val_every_n_epoch=1, default_root_dir=base_dir,\n",
    "                        weights_save_path=base_dir, callbacks=[checkpoint_callback], enable_progress_bar=False)\n",
    "\n",
    "        # This is the model itself, which is extended from pytorch_lightning\n",
    "        model = Explainer(n_concepts=n_concepts, n_classes=n_classes, l1=1e-3, lr=0.01,\n",
    "                        explainer_hidden=[20], temperature=0.7)\n",
    "\n",
    "\n",
    "        start = time.time()\n",
    "        trainer.fit(model, train_loader, val_loader)\n",
    "        # print(f\"Gamma: {model.model[0].concept_mask}\")\n",
    "        model.freeze()\n",
    "        print(\"\\nTesting...\\n\")\n",
    "        model_results = trainer.test(model, test_dataloaders=test_loader)\n",
    "        print(\"\\nExplaining\\n\")\n",
    "        results, f = model.explain_class(val_dataloaders=val_loader, train_dataloaders=train_loader, test_dataloaders=test_loader,\n",
    "                                        topk_explanations=10,\n",
    "                                        concept_names=data.columns)\n",
    "        end = time.time()\n",
    "        explanations_list.append(f)\n",
    "\n",
    "        print(f\"Explaining time: {end - start}\")\n",
    "        results['model_accuracy'] = model_results[0]['test_acc']\n",
    "        results['extraction_time'] = end\n",
    "\n",
    "        results_list.append(results)\n",
    "        extracted_concepts = []\n",
    "        all_concepts = model.model[0].concept_mask[0] > 0.5\n",
    "        common_concepts = model.model[0].concept_mask[0] > 0.5\n",
    "        for j in range(n_classes):\n",
    "            # print(f[j]['explanation'])\n",
    "            n_used_concepts = sum(model.model[0].concept_mask[j] > 0.5)\n",
    "            print(f\"Number of features that impact on target {j}: {n_used_concepts}\")\n",
    "            print(f\"Explanation for target {j}: {f[j]['explanation']}\")\n",
    "            print(f\"Explanation accuracy: {f[j]['explanation_accuracy']}\")\n",
    "            explanations[j].append(f[j]['explanation'])\n",
    "            extracted_concepts.append(n_used_concepts)\n",
    "            all_concepts += model.model[0].concept_mask[j] > 0.5\n",
    "            common_concepts *= model.model[0].concept_mask[j] > 0.5\n",
    "\n",
    "        results['extracted_concepts'] = np.mean(extracted_concepts)\n",
    "        results['common_concepts_ratio'] = sum(common_concepts) / sum(all_concepts)\n",
    "\n",
    "        # Precision, Recall, F1\n",
    "        # print(x_test)\n",
    "        print(\"Type:\", type(x_test))\n",
    "        y_pred = torch.argmax(model(x_test), axis=1)\n",
    "        # print(\"Predictions:\", y_pred)\n",
    "        y_test_argmax = torch.argmax(y_test, axis=1)\n",
    "        # print(\"Actual:\", y_test_argmax)\n",
    "\n",
    "        scores = [f1_score(y_test_argmax.numpy(), y_pred.numpy()), recall_score(y_test_argmax.numpy(), y_pred.numpy()), precision_score(y_test_argmax.numpy(), y_pred.numpy())]\n",
    "\n",
    "        print(f\"{file} split {split+1} scores: {scores}\")\n",
    "\n",
    "        scores_list.append(scores)\n",
    "\n",
    "\n",
    "        prec_rec = precision_recall(y_pred, y_test_argmax, num_classes = n_classes)\n",
    "\n",
    "        print(prec_rec)\n",
    "\n",
    "        # compare against standard feature selection\n",
    "        i_mutual_info = mutual_info_classif(x_trainval, y_trainval[:, 1])\n",
    "        i_chi2 = chi2(x_trainval, y_trainval[:, 1])[0]\n",
    "        i_chi2[np.isnan(i_chi2)] = 0\n",
    "        lasso = LassoCV(cv=5, random_state=0).fit(x_trainval, y_trainval[:, 1])\n",
    "        i_lasso = np.abs(lasso.coef_)\n",
    "        i_mu = model.model[0].concept_mask[1]\n",
    "        # print(model.model[0].concept_mask)\n",
    "        df = pd.DataFrame(np.hstack([\n",
    "            i_mu.numpy(),\n",
    "            # i_mutual_info / np.max(i_mutual_info),\n",
    "            # i_chi2 / np.max(i_chi2),\n",
    "            # i_lasso / np.max(i_lasso),\n",
    "        ]).T, columns=['feature importance'])\n",
    "        df['method'] = 'explainer'\n",
    "        # df.iloc[90:, 1] = 'MI'\n",
    "        # df.iloc[180:, 1] = 'CHI2'\n",
    "        # df.iloc[270:, 1] = 'Lasso'\n",
    "        df['feature'] = np.hstack([np.arange(0, n_concepts)])\n",
    "        feature_selection.append(df)\n",
    "\n",
    "\n",
    "    results_dict[file] = [results_list, explanations_list, scores_list]\n",
    "\n",
    "\n",
    "# self.feature_selection = feature_selection\n",
    "# # print(self.feature_selection)\n",
    "\n",
    "# self.df = df\n",
    "# self.explanations = explanations\n",
    "# self.results_list = results_list\n",
    "# print(results_dict)"
   ]
  },
  {
   "cell_type": "code",
   "execution_count": 74,
   "metadata": {},
   "outputs": [
    {
     "name": "stdout",
     "output_type": "stream",
     "text": [
      "clusteredData.csv\n",
      "['dataset', 'explanation_accuracy_split_0', 'explanation_fidelity_split_0', 'explanation_complexity_split_0', 'model_accuracy_split_0', 'extraction_time_split_0', 'extracted_concepts_split_0', 'common_concepts_ratio_split_0', 'target_class_split_0', 'explanation_split_0', 'explanation_accuracy_split_0', 'explanation_fidelity_split_0', 'explanation_complexity_split_0', 'target_class_split_0', 'explanation_split_0', 'explanation_accuracy_split_0', 'explanation_fidelity_split_0', 'explanation_complexity_split_0']\n",
      "['dataset', 'explanation_accuracy_split_0', 'explanation_fidelity_split_0', 'explanation_complexity_split_0', 'model_accuracy_split_0', 'extraction_time_split_0', 'extracted_concepts_split_0', 'common_concepts_ratio_split_0', 'target_class_split_0', 'explanation_split_0', 'explanation_accuracy_split_0', 'explanation_fidelity_split_0', 'explanation_complexity_split_0', 'target_class_split_0', 'explanation_split_0', 'explanation_accuracy_split_0', 'explanation_fidelity_split_0', 'explanation_complexity_split_0', 'explanation_accuracy_split_1', 'explanation_fidelity_split_1', 'explanation_complexity_split_1', 'model_accuracy_split_1', 'extraction_time_split_1', 'extracted_concepts_split_1', 'common_concepts_ratio_split_1', 'target_class_split_1', 'explanation_split_1', 'explanation_accuracy_split_1', 'explanation_fidelity_split_1', 'explanation_complexity_split_1', 'target_class_split_1', 'explanation_split_1', 'explanation_accuracy_split_1', 'explanation_fidelity_split_1', 'explanation_complexity_split_1']\n"
     ]
    },
    {
     "data": {
      "text/html": [
       "<div>\n",
       "<style scoped>\n",
       "    .dataframe tbody tr th:only-of-type {\n",
       "        vertical-align: middle;\n",
       "    }\n",
       "\n",
       "    .dataframe tbody tr th {\n",
       "        vertical-align: top;\n",
       "    }\n",
       "\n",
       "    .dataframe thead th {\n",
       "        text-align: right;\n",
       "    }\n",
       "</style>\n",
       "<table border=\"1\" class=\"dataframe\">\n",
       "  <thead>\n",
       "    <tr style=\"text-align: right;\">\n",
       "      <th></th>\n",
       "      <th>dataset</th>\n",
       "      <th>explanation_accuracy_split_0</th>\n",
       "      <th>explanation_fidelity_split_0</th>\n",
       "      <th>explanation_complexity_split_0</th>\n",
       "      <th>model_accuracy_split_0</th>\n",
       "      <th>extraction_time_split_0</th>\n",
       "      <th>extracted_concepts_split_0</th>\n",
       "      <th>common_concepts_ratio_split_0</th>\n",
       "      <th>target_class_split_0</th>\n",
       "      <th>explanation_split_0</th>\n",
       "      <th>...</th>\n",
       "      <th>target_class_split_1</th>\n",
       "      <th>explanation_split_1</th>\n",
       "      <th>explanation_accuracy_split_1</th>\n",
       "      <th>explanation_fidelity_split_1</th>\n",
       "      <th>explanation_complexity_split_1</th>\n",
       "      <th>target_class_split_1</th>\n",
       "      <th>explanation_split_1</th>\n",
       "      <th>explanation_accuracy_split_1</th>\n",
       "      <th>explanation_fidelity_split_1</th>\n",
       "      <th>explanation_complexity_split_1</th>\n",
       "    </tr>\n",
       "  </thead>\n",
       "  <tbody>\n",
       "    <tr>\n",
       "      <th>0</th>\n",
       "      <td>staticData.csv</td>\n",
       "      <td>0.000000</td>\n",
       "      <td>0.000000</td>\n",
       "      <td>0.0</td>\n",
       "      <td>0.757887</td>\n",
       "      <td>1.657886e+09</td>\n",
       "      <td>11.0</td>\n",
       "      <td>tensor(0.2222)</td>\n",
       "      <td>0</td>\n",
       "      <td>CVP__quantile__q_0.3_high | CVP__c3__lag_2_low...</td>\n",
       "      <td>...</td>\n",
       "      <td>0</td>\n",
       "      <td>None</td>\n",
       "      <td>0.000000</td>\n",
       "      <td>0.000000</td>\n",
       "      <td>0</td>\n",
       "      <td>1</td>\n",
       "      <td>None</td>\n",
       "      <td>0.000000</td>\n",
       "      <td>0.000000</td>\n",
       "      <td>0</td>\n",
       "    </tr>\n",
       "    <tr>\n",
       "      <th>1</th>\n",
       "      <td>clusteredData.csv</td>\n",
       "      <td>0.485373</td>\n",
       "      <td>0.878125</td>\n",
       "      <td>4.5</td>\n",
       "      <td>0.956250</td>\n",
       "      <td>1.657886e+09</td>\n",
       "      <td>15.5</td>\n",
       "      <td>tensor(0.)</td>\n",
       "      <td>0</td>\n",
       "      <td>None</td>\n",
       "      <td>...</td>\n",
       "      <td>0</td>\n",
       "      <td>Arterial BP Mean_Mean_medium | Arterial BP [Di...</td>\n",
       "      <td>0.482472</td>\n",
       "      <td>0.775000</td>\n",
       "      <td>4</td>\n",
       "      <td>1</td>\n",
       "      <td>Arterial PaCO2_StdDev_low &amp; Arterial pH_StdDev...</td>\n",
       "      <td>0.488273</td>\n",
       "      <td>0.981250</td>\n",
       "      <td>5</td>\n",
       "    </tr>\n",
       "    <tr>\n",
       "      <th>2</th>\n",
       "      <td>expertLabelledData.csv</td>\n",
       "      <td>0.502413</td>\n",
       "      <td>0.857016</td>\n",
       "      <td>2.5</td>\n",
       "      <td>0.925400</td>\n",
       "      <td>1.657886e+09</td>\n",
       "      <td>18.5</td>\n",
       "      <td>tensor(0.1562)</td>\n",
       "      <td>0</td>\n",
       "      <td>~CVP_Mean_very_high</td>\n",
       "      <td>...</td>\n",
       "      <td>0</td>\n",
       "      <td>Arterial_pH_Min_very_low | Heart_Rate_Min_high...</td>\n",
       "      <td>0.480812</td>\n",
       "      <td>0.813499</td>\n",
       "      <td>3</td>\n",
       "      <td>1</td>\n",
       "      <td>CVP_Min_medium &amp; ~Potassium_Min_medium</td>\n",
       "      <td>0.524015</td>\n",
       "      <td>0.900533</td>\n",
       "      <td>2</td>\n",
       "    </tr>\n",
       "    <tr>\n",
       "      <th>3</th>\n",
       "      <td>metricExtractedData.csv</td>\n",
       "      <td>0.563349</td>\n",
       "      <td>0.939583</td>\n",
       "      <td>4.5</td>\n",
       "      <td>0.958333</td>\n",
       "      <td>1.657886e+09</td>\n",
       "      <td>11.0</td>\n",
       "      <td>tensor(0.2222)</td>\n",
       "      <td>0</td>\n",
       "      <td>Arterial_pH_Max_low | CVP_Max_very_low | NBP_S...</td>\n",
       "      <td>...</td>\n",
       "      <td>0</td>\n",
       "      <td>CVP__root_mean_square_high | CVP__c3__lag_3_lo...</td>\n",
       "      <td>0.559599</td>\n",
       "      <td>0.920833</td>\n",
       "      <td>5</td>\n",
       "      <td>1</td>\n",
       "      <td>~CVP__mean_high &amp; ~CVP__c3__lag_3_low &amp; ~CVP__...</td>\n",
       "      <td>0.567100</td>\n",
       "      <td>0.958333</td>\n",
       "      <td>4</td>\n",
       "    </tr>\n",
       "  </tbody>\n",
       "</table>\n",
       "<p>4 rows × 35 columns</p>\n",
       "</div>"
      ],
      "text/plain": [
       "                   dataset  explanation_accuracy_split_0  \\\n",
       "0           staticData.csv                      0.000000   \n",
       "1        clusteredData.csv                      0.485373   \n",
       "2   expertLabelledData.csv                      0.502413   \n",
       "3  metricExtractedData.csv                      0.563349   \n",
       "\n",
       "   explanation_fidelity_split_0  explanation_complexity_split_0  \\\n",
       "0                      0.000000                             0.0   \n",
       "1                      0.878125                             4.5   \n",
       "2                      0.857016                             2.5   \n",
       "3                      0.939583                             4.5   \n",
       "\n",
       "   model_accuracy_split_0  extraction_time_split_0  \\\n",
       "0                0.757887             1.657886e+09   \n",
       "1                0.956250             1.657886e+09   \n",
       "2                0.925400             1.657886e+09   \n",
       "3                0.958333             1.657886e+09   \n",
       "\n",
       "   extracted_concepts_split_0 common_concepts_ratio_split_0  \\\n",
       "0                        11.0                tensor(0.2222)   \n",
       "1                        15.5                    tensor(0.)   \n",
       "2                        18.5                tensor(0.1562)   \n",
       "3                        11.0                tensor(0.2222)   \n",
       "\n",
       "   target_class_split_0                                explanation_split_0  \\\n",
       "0                     0  CVP__quantile__q_0.3_high | CVP__c3__lag_2_low...   \n",
       "1                     0                                               None   \n",
       "2                     0                                ~CVP_Mean_very_high   \n",
       "3                     0  Arterial_pH_Max_low | CVP_Max_very_low | NBP_S...   \n",
       "\n",
       "   ...  target_class_split_1  \\\n",
       "0  ...                     0   \n",
       "1  ...                     0   \n",
       "2  ...                     0   \n",
       "3  ...                     0   \n",
       "\n",
       "                                 explanation_split_1  \\\n",
       "0                                               None   \n",
       "1  Arterial BP Mean_Mean_medium | Arterial BP [Di...   \n",
       "2  Arterial_pH_Min_very_low | Heart_Rate_Min_high...   \n",
       "3  CVP__root_mean_square_high | CVP__c3__lag_3_lo...   \n",
       "\n",
       "   explanation_accuracy_split_1  explanation_fidelity_split_1  \\\n",
       "0                      0.000000                      0.000000   \n",
       "1                      0.482472                      0.775000   \n",
       "2                      0.480812                      0.813499   \n",
       "3                      0.559599                      0.920833   \n",
       "\n",
       "   explanation_complexity_split_1  target_class_split_1  \\\n",
       "0                               0                     1   \n",
       "1                               4                     1   \n",
       "2                               3                     1   \n",
       "3                               5                     1   \n",
       "\n",
       "                                 explanation_split_1  \\\n",
       "0                                               None   \n",
       "1  Arterial PaCO2_StdDev_low & Arterial pH_StdDev...   \n",
       "2             CVP_Min_medium & ~Potassium_Min_medium   \n",
       "3  ~CVP__mean_high & ~CVP__c3__lag_3_low & ~CVP__...   \n",
       "\n",
       "   explanation_accuracy_split_1  explanation_fidelity_split_1  \\\n",
       "0                      0.000000                      0.000000   \n",
       "1                      0.488273                      0.981250   \n",
       "2                      0.524015                      0.900533   \n",
       "3                      0.567100                      0.958333   \n",
       "\n",
       "   explanation_complexity_split_1  \n",
       "0                               0  \n",
       "1                               5  \n",
       "2                               2  \n",
       "3                               4  \n",
       "\n",
       "[4 rows x 35 columns]"
      ]
     },
     "execution_count": 74,
     "metadata": {},
     "output_type": "execute_result"
    }
   ],
   "source": [
    "columns = []\n",
    "\n",
    "columns.append(\"dataset\")\n",
    "\n",
    "x = files[0]\n",
    "\n",
    "print(x)\n",
    "\n",
    "for n in range(n_splits):\n",
    "    # print(x,n)\n",
    "    columns.extend([str(j + \"_split_\" + str(n)) for j in results_dict[x][0][n]])\n",
    "    \n",
    "\n",
    "        \n",
    "    for k in range(len(results_dict[x][1][n])):\n",
    "        columns.extend([str(j + \"_split_\" + str(n)) for j in results_dict[x][1][n][k]])\n",
    "\n",
    "    print(columns)\n",
    "\n",
    "\n",
    "# print(columns)\n",
    "\n",
    "data = []\n",
    "\n",
    "for x in results_dict:\n",
    "    row = []\n",
    "    row.append(x)\n",
    "    for n in range(n_splits):\n",
    "        # print(x,n)\n",
    "        row.extend(results_dict[x][0][n].values())\n",
    "        \n",
    "        # print(columns)\n",
    "                \n",
    "        for k in range(len(results_dict[x][1][n])):\n",
    "            row.extend(results_dict[x][1][n][k].values())\n",
    "\n",
    "    data.append(row)\n",
    "\n",
    "\n",
    "resultsDF = pd.DataFrame(data, columns=columns)\n",
    "\n",
    "resultsDF\n"
   ]
  },
  {
   "cell_type": "code",
   "execution_count": 43,
   "metadata": {},
   "outputs": [
    {
     "name": "stdout",
     "output_type": "stream",
     "text": [
      "{0: ['CVP__root_mean_square_high | CVP__c3__lag_3_low | CVP__c3__lag_3_very_low | (CVP__mean_very_low & ~CVP__minimum_very_low)', 'CVP__quantile__q_0.3_high | CVP__c3__lag_2_low | ~CVP__quantile__q_0.1_low'], 1: ['~CVP__mean_high & ~CVP__c3__lag_3_low & ~CVP__c3__lag_3_very_low & ~CVP__c3__lag_1_low', 'CVP__quantile__q_0.1_low & CVP__quantile__q_0.7_very_high & ~CVP__minimum_very_low']}\n",
      "['CVP__root_mean_square_high | CVP__c3__lag_3_low | CVP__c3__lag_3_very_low | (CVP__mean_very_low & ~CVP__minimum_very_low)', 'CVP__quantile__q_0.3_high | CVP__c3__lag_2_low | ~CVP__quantile__q_0.1_low']\n",
      "['~CVP__mean_high & ~CVP__c3__lag_3_low & ~CVP__c3__lag_3_very_low & ~CVP__c3__lag_1_low', 'CVP__quantile__q_0.1_low & CVP__quantile__q_0.7_very_high & ~CVP__minimum_very_low']\n",
      "Feature selection:      feature importance     method  feature\n",
      "0                False  explainer        0\n",
      "1                False  explainer        1\n",
      "2                False  explainer        2\n",
      "3                False  explainer        3\n",
      "4                False  explainer        4\n",
      "..                 ...        ...      ...\n",
      "65               False  explainer       65\n",
      "66               False  explainer       66\n",
      "67               False  explainer       67\n",
      "68                True  explainer       68\n",
      "69               False  explainer       69\n",
      "\n",
      "[140 rows x 3 columns]\n"
     ]
    },
    {
     "data": {
      "image/png": "[encoded data removed]",
      "text/plain": [
       "<Figure size 720x720 with 3 Axes>"
      ]
     },
     "metadata": {
      "needs_background": "light"
     },
     "output_type": "display_data"
    },
    {
     "name": "stdout",
     "output_type": "stream",
     "text": [
      "Split [1/2]\n",
      "Split [2/2]\n",
      "Random forest scores: 0.9405641092553931 (+/- 0.0009807759220598622)\n",
      "Decision tree scores: 0.9572459986082116 (+/- 0.0010873347251217913)\n",
      "Mu net scores (model): 0.9405445158481598 (+/- 0.02515715884821307)\n",
      "Mu net scores (exp): 0.5207440200706117 (+/- 0.060253194407512575)\n"
     ]
    }
   ],
   "source": [
    "base_dir = f'./results/mimicLEN/explainer'\n",
    "\n",
    "consistencies = []\n",
    "print(explanations)\n",
    "for j in range(n_classes):\n",
    "    if explanations[j][0] is None:\n",
    "        continue\n",
    "    consistencies.append(formula_consistency(explanations[j]))\n",
    "explanation_consistency = np.mean(consistencies)\n",
    "\n",
    "feature_selection = pd.concat(feature_selection, axis=0)\n",
    "\n",
    "print(\"Feature selection: \", feature_selection)\n",
    "\n",
    "f1 = feature_selection[feature_selection['feature'] <= n_concepts//3]\n",
    "f2 = feature_selection[(feature_selection['feature'] > n_concepts//3) & (feature_selection['feature'] <= (n_concepts*2)//3)]\n",
    "f3 = feature_selection[feature_selection['feature'] > (n_concepts*2)//3]\n",
    "\n",
    "plt.figure(figsize=[10, 10])\n",
    "plt.subplot(1, 3, 1)\n",
    "ax = sns.barplot(y=f1['feature'], x=f1.iloc[:, 0],\n",
    "                hue=f1['method'], orient='h', errwidth=0.5, errcolor='k')\n",
    "ax.get_legend().remove()\n",
    "plt.subplot(1, 3, 2)\n",
    "ax = sns.barplot(y=f2['feature'], x=f2.iloc[:, 0],\n",
    "                hue=f2['method'], orient='h', errwidth=0.5, errcolor='k')\n",
    "plt.xlabel('')\n",
    "ax.get_legend().remove()\n",
    "plt.subplot(1, 3, 3)\n",
    "sns.barplot(y=f3['feature'], x=f3.iloc[:, 0],\n",
    "            hue=f3['method'], orient='h', errwidth=0.5, errcolor='k')\n",
    "plt.xlabel('')\n",
    "plt.tight_layout()\n",
    "plt.savefig(os.path.join(base_dir, 'barplot_mimic.png'))\n",
    "plt.savefig(os.path.join(base_dir, 'barplot_mimic.pdf'))\n",
    "plt.show()\n",
    "\n",
    "# print(feature_selection.iloc[:, 1], feature_selection.iloc[:, 0])\n",
    "\n",
    "# plt.figure(figsize=[6, 4])\n",
    "# sns.boxplot(x=feature_selection.iloc[:, 1], y=feature_selection.iloc[:, 0])\n",
    "# plt.tight_layout()\n",
    "# plt.savefig(os.path.join(base_dir, 'boxplot_mimic.png'))\n",
    "# plt.savefig(os.path.join(base_dir, 'boxplot_mimic.pdf'))\n",
    "# plt.show()\n",
    "\n",
    "\n",
    "results_df = pd.DataFrame(results_list)\n",
    "results_df['explanation_consistency'] = explanation_consistency\n",
    "results_df.to_csv(os.path.join(base_dir, 'results_aware_mimic.csv'))\n",
    "results_df\n",
    "\n",
    "\n",
    "results_df.mean()\n",
    "\n",
    "results_df.sem()\n",
    "\n",
    "x = dataTensor\n",
    "y = targetTensor\n",
    "\n",
    "dt_scores, rf_scores = [], []\n",
    "for split, (trainval_index, test_index) in enumerate(\n",
    "        skf.split(x.cpu().detach().numpy(), y.argmax(dim=1).cpu().detach().numpy())):\n",
    "    print(f'Split [{split + 1}/{n_splits}]')\n",
    "    x_trainval, x_test = x[trainval_index], x[test_index]\n",
    "    y_trainval, y_test = y[trainval_index].argmax(dim=1), y[test_index].argmax(dim=1)\n",
    "\n",
    "    dt_model = DecisionTreeClassifier(max_depth=5, random_state=split)\n",
    "    dt_model.fit(x_trainval, y_trainval)\n",
    "    dt_scores.append(dt_model.score(x_test, y_test))\n",
    "\n",
    "    rf_model = RandomForestClassifier(random_state=split)\n",
    "    rf_model.fit(x_trainval, y_trainval)\n",
    "    rf_scores.append(rf_model.score(x_test, y_test))\n",
    "\n",
    "print(f'Random forest scores: {np.mean(rf_scores)} (+/- {np.std(rf_scores)})')\n",
    "print(f'Decision tree scores: {np.mean(dt_scores)} (+/- {np.std(dt_scores)})')\n",
    "print(f'Mu net scores (model): {results_df[\"model_accuracy\"].mean()} (+/- {results_df[\"model_accuracy\"].std()})')\n",
    "print(\n",
    "    f'Mu net scores (exp): {results_df[\"explanation_accuracy\"].mean()} (+/- {results_df[\"explanation_accuracy\"].std()})')\n"
   ]
  },
  {
   "cell_type": "code",
   "execution_count": 10,
   "metadata": {},
   "outputs": [
    {
     "name": "stdout",
     "output_type": "stream",
     "text": [
      "0.5766791432730298\n",
      "0.23529411764705882\n",
      "0.16\n"
     ]
    }
   ],
   "source": [
    "# Testing on non-rebalanced data\n",
    "\n",
    "print(f1_score(y_test_argmax.numpy(), y_pred.numpy(), average='macro'))\n",
    "print(recall_score(y_test_argmax.numpy(), y_pred.numpy()))\n",
    "print(precision_score(y_test_argmax.numpy(), y_pred.numpy()))"
   ]
  },
  {
   "cell_type": "code",
   "execution_count": 19,
   "metadata": {},
   "outputs": [
    {
     "data": {
      "text/plain": [
       "(array([0.97136564, 0.16      ]),\n",
       " array([0.95454545, 0.23529412]),\n",
       " array([0.9628821 , 0.19047619]),\n",
       " array([462,  17], dtype=int64))"
      ]
     },
     "execution_count": 19,
     "metadata": {},
     "output_type": "execute_result"
    }
   ],
   "source": [
    "precision_recall_fscore_support(y_test_argmax.numpy(), y_pred.numpy())"
   ]
  },
  {
   "cell_type": "code",
   "execution_count": 20,
   "metadata": {},
   "outputs": [
    {
     "name": "stdout",
     "output_type": "stream",
     "text": [
      "Minority class correct: 4\n"
     ]
    }
   ],
   "source": [
    "print(\"Minority class correct: \" + str(torch.sum(torch.logical_and((y_pred == 1), (y_test_argmax == 1))).item()))"
   ]
  }
 ],
 "metadata": {
  "kernelspec": {
   "display_name": "Python 3.9.7 ('base')",
   "language": "python",
   "name": "python3"
  },
  "language_info": {
   "codemirror_mode": {
    "name": "ipython",
    "version": 3
   },
   "file_extension": ".py",
   "mimetype": "text/x-python",
   "name": "python",
   "nbconvert_exporter": "python",
   "pygments_lexer": "ipython3",
   "version": "3.9.7"
  },
  "orig_nbformat": 4,
  "vscode": {
   "interpreter": {
    "hash": "0c0da8f5b93ec0612bb8aed25290fce040bcd4618fccb82f778dd001cba2969b"
   }
  }
 },
 "nbformat": 4,
 "nbformat_minor": 2
}
