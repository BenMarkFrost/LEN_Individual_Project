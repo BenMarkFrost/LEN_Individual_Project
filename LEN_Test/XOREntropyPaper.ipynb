{
 "cells": [
  {
   "cell_type": "code",
   "execution_count": 2,
   "metadata": {},
   "outputs": [
    {
     "ename": "AttributeError",
     "evalue": "module 'torch_explain.nn' has no attribute 'EntropyLogicLayer'",
     "output_type": "error",
     "traceback": [
      "\u001b[1;31m---------------------------------------------------------------------------\u001b[0m",
      "\u001b[1;31mAttributeError\u001b[0m                            Traceback (most recent call last)",
      "\u001b[1;32m~\\AppData\\Local\\Temp/ipykernel_9404/2503889920.py\u001b[0m in \u001b[0;36m<module>\u001b[1;34m\u001b[0m\n\u001b[0;32m     21\u001b[0m \u001b[1;31m# network architecture\u001b[0m\u001b[1;33m\u001b[0m\u001b[1;33m\u001b[0m\u001b[0m\n\u001b[0;32m     22\u001b[0m layers = [\n\u001b[1;32m---> 23\u001b[1;33m     \u001b[0mte\u001b[0m\u001b[1;33m.\u001b[0m\u001b[0mnn\u001b[0m\u001b[1;33m.\u001b[0m\u001b[0mEntropyLogicLayer\u001b[0m\u001b[1;33m(\u001b[0m\u001b[0mx\u001b[0m\u001b[1;33m.\u001b[0m\u001b[0mshape\u001b[0m\u001b[1;33m[\u001b[0m\u001b[1;36m1\u001b[0m\u001b[1;33m]\u001b[0m\u001b[1;33m,\u001b[0m \u001b[0mn_classes\u001b[0m\u001b[1;33m=\u001b[0m\u001b[1;36m2\u001b[0m\u001b[1;33m)\u001b[0m\u001b[1;33m,\u001b[0m\u001b[1;33m\u001b[0m\u001b[1;33m\u001b[0m\u001b[0m\n\u001b[0m\u001b[0;32m     24\u001b[0m     \u001b[0mtorch\u001b[0m\u001b[1;33m.\u001b[0m\u001b[0mnn\u001b[0m\u001b[1;33m.\u001b[0m\u001b[0mLeakyReLU\u001b[0m\u001b[1;33m(\u001b[0m\u001b[1;33m)\u001b[0m\u001b[1;33m,\u001b[0m\u001b[1;33m\u001b[0m\u001b[1;33m\u001b[0m\u001b[0m\n\u001b[0;32m     25\u001b[0m     \u001b[0mte\u001b[0m\u001b[1;33m.\u001b[0m\u001b[0mnn\u001b[0m\u001b[1;33m.\u001b[0m\u001b[0mLinearIndependent\u001b[0m\u001b[1;33m(\u001b[0m\u001b[1;36m10\u001b[0m\u001b[1;33m,\u001b[0m \u001b[1;36m10\u001b[0m\u001b[1;33m,\u001b[0m \u001b[0mn_classes\u001b[0m\u001b[1;33m=\u001b[0m\u001b[1;36m2\u001b[0m\u001b[1;33m)\u001b[0m\u001b[1;33m,\u001b[0m\u001b[1;33m\u001b[0m\u001b[1;33m\u001b[0m\u001b[0m\n",
      "\u001b[1;31mAttributeError\u001b[0m: module 'torch_explain.nn' has no attribute 'EntropyLogicLayer'"
     ]
    }
   ],
   "source": [
    "import torch_explain as te\n",
    "from torch_explain.logic import test_explanation\n",
    "from torch_explain.logic.nn import explain_class\n",
    "import torch\n",
    "from torch.nn.functional import one_hot\n",
    "\n",
    "\n",
    "# XOR problem with additional features\n",
    "x0 = torch.zeros((4, 100))\n",
    "x = torch.tensor([\n",
    "[0, 0, 0],\n",
    "[0, 1, 0],\n",
    "[1, 0, 0],\n",
    "[1, 1, 0],\n",
    "], dtype=torch.float)\n",
    "x = torch.cat([x, x0], dim=1)\n",
    "y = torch.tensor([0, 1, 1, 0], dtype= torch.long)\n",
    "\n",
    "# network architecture\n",
    "layers = [\n",
    "    te.nn.EntropyLogicLayer(x.shape[1], n_classes=2),\n",
    "    torch.nn.LeakyReLU(),\n",
    "    te.nn.LinearIndependent(10, 10, n_classes=2),\n",
    "    torch.nn.LeakyReLU(),\n",
    "    te.nn.LinearIndependent(10, 1, n_classes=2, top=True)\n",
    "]\n",
    "model = torch.nn.Sequential(*layers)\n",
    "\n",
    "# train loop\n",
    "optimizer = torch.optim.AdamW(model.parameters(), lr=0.01)\n",
    "loss_form = torch.nn.CrossEntropyLoss()\n",
    "model.train()\n",
    "for epoch in range(1001):\n",
    "    optimizer.zero_grad()\n",
    "    y_pred = model(x)\n",
    "    loss = loss_form(y_pred, y) + \\\n",
    "    0.00001 * te.nn.functional.entropy_logic_loss(model)\n",
    "    loss.backward()\n",
    "    optimizer.step()\n",
    "\n",
    "# logic explanations\n",
    "y1h = one_hot(y)\n",
    "\n",
    "_, class_explanations, _ = explain_class(model, x, y1h, x, y1h)\n"
   ]
  },
  {
   "cell_type": "code",
   "execution_count": null,
   "metadata": {},
   "outputs": [],
   "source": []
  }
 ],
 "metadata": {
  "interpreter": {
   "hash": "1cfebbf34b7371d6e9009dd3522fc360ee15a951ff99ad839f5c87824f850b4d"
  },
  "kernelspec": {
   "display_name": "Python 3.9.7 64-bit (conda)",
   "language": "python",
   "name": "python3"
  },
  "language_info": {
   "codemirror_mode": {
    "name": "ipython",
    "version": 3
   },
   "file_extension": ".py",
   "mimetype": "text/x-python",
   "name": "python",
   "nbconvert_exporter": "python",
   "pygments_lexer": "ipython3",
   "version": "3.9.7"
  },
  "orig_nbformat": 4
 },
 "nbformat": 4,
 "nbformat_minor": 2
}
