{
 "cells": [
  {
   "cell_type": "code",
   "execution_count": 14,
   "metadata": {},
   "outputs": [
    {
     "name": "stdout",
     "output_type": "stream",
     "text": [
      "epoch 0 , loss 0.6935662031173706\n",
      "Pruned 0/2 features\n",
      "Pruned 0/2 features\n",
      "epoch 1000 , loss 0.001324061886407435\n",
      "epoch 2000 , loss 0.0005623179604299366\n",
      "epoch 3000 , loss 0.00033241495839320123\n",
      "epoch 4000 , loss 0.00021917466074228287\n",
      "epoch 5000 , loss 0.0001542589598102495\n",
      "epoch 6000 , loss 0.0001140840322477743\n"
     ]
    }
   ],
   "source": [
    "import torch\n",
    "from torch . nn . functional import one_hot\n",
    "import torch_explain as te\n",
    "from torch_explain . nn . functional import l1_loss\n",
    "from torch_explain . logic . nn import psi\n",
    "from torch_explain . logic . metrics import test_explanation , complexity\n",
    "import torch.nn.utils.prune as prune\n",
    "import deep_logic as dl\n",
    "\n",
    "\n",
    "# train data\n",
    "x_train = torch . tensor ([\n",
    "[0 , 0] ,\n",
    "[0 , 1] ,\n",
    "[1 , 0] ,\n",
    "[1 , 1] ,\n",
    "], dtype = torch . float )\n",
    "y_train = torch . tensor ([0 , 1, 1, 0] , dtype = torch . float ). unsqueeze (1)\n",
    "\n",
    "# instantiate a \" psi network \"\n",
    "layers = [\n",
    "    torch . nn . Linear ( x_train . shape [1] , 10) ,\n",
    "    torch . nn . Sigmoid () ,\n",
    "    torch . nn . Linear (10 , 5) ,\n",
    "    torch . nn . Sigmoid () ,\n",
    "    torch . nn . Linear (5 , 1) ,\n",
    "    torch . nn . Sigmoid () ,\n",
    "]\n",
    "model = torch . nn . Sequential (* layers )\n",
    "\n",
    "# fit ( and prune ) the model\n",
    "optimizer = torch . optim . AdamW ( model . parameters () , lr =0.01)\n",
    "loss_form = torch . nn . BCELoss ()\n",
    "model . train ()\n",
    "need_pruning = True\n",
    "for epoch in range (6001) :\n",
    "    optimizer . zero_grad ()\n",
    "    y_pred = model ( x_train )\n",
    "    loss = loss_form ( y_pred , y_train ) + 0.000001 * l1_loss ( model )\n",
    "    loss . backward ()\n",
    "    optimizer . step ()\n",
    "\n",
    "    if epoch % 1000 == 0 :\n",
    "        print ( 'epoch {} , loss {}'.format ( epoch , loss . item () ) )\n",
    "\n",
    "    \n",
    "    if epoch > 500 and need_pruning:\n",
    "        dl.utils.relu_nn.prune_features(model, 2)\n",
    "        need_pruning = False\n",
    "    # model = prune_equal_fanin ( model , epoch , prune_epoch =1000 , k =2)"
   ]
  },
  {
   "cell_type": "code",
   "execution_count": 13,
   "metadata": {},
   "outputs": [
    {
     "name": "stdout",
     "output_type": "stream",
     "text": [
      "tensor([[1, 0],\n",
      "        [0, 1],\n",
      "        [0, 1],\n",
      "        [1, 0]])\n",
      "tensor([[0.9998],\n",
      "        [0.9998],\n",
      "        [0.9998],\n",
      "        [0.9998]], grad_fn=<SigmoidBackward0>)\n"
     ]
    },
    {
     "ename": "ValueError",
     "evalue": "could not broadcast input array from shape (10,) into shape (2,)",
     "output_type": "error",
     "traceback": [
      "\u001b[1;31m---------------------------------------------------------------------------\u001b[0m",
      "\u001b[1;31mValueError\u001b[0m                                Traceback (most recent call last)",
      "\u001b[1;32m~\\AppData\\Local\\Temp/ipykernel_8576/3494408474.py\u001b[0m in \u001b[0;36m<module>\u001b[1;34m\u001b[0m\n\u001b[0;32m      7\u001b[0m \u001b[0mprint\u001b[0m\u001b[1;33m(\u001b[0m\u001b[0my_pred\u001b[0m\u001b[1;33m)\u001b[0m\u001b[1;33m\u001b[0m\u001b[1;33m\u001b[0m\u001b[0m\n\u001b[0;32m      8\u001b[0m \u001b[1;33m\u001b[0m\u001b[0m\n\u001b[1;32m----> 9\u001b[1;33m \u001b[0mexplanation\u001b[0m \u001b[1;33m=\u001b[0m \u001b[0mpsi\u001b[0m \u001b[1;33m.\u001b[0m \u001b[0mexplain_class\u001b[0m \u001b[1;33m(\u001b[0m \u001b[0mmodel\u001b[0m \u001b[1;33m,\u001b[0m \u001b[0mx_train\u001b[0m \u001b[1;33m)\u001b[0m\u001b[1;33m\u001b[0m\u001b[1;33m\u001b[0m\u001b[0m\n\u001b[0m\u001b[0;32m     10\u001b[0m \u001b[1;33m\u001b[0m\u001b[0m\n\u001b[0;32m     11\u001b[0m \u001b[1;31m# compute explanation accuracy and complexity\u001b[0m\u001b[1;33m\u001b[0m\u001b[1;33m\u001b[0m\u001b[0m\n",
      "\u001b[1;32m~\\anaconda3\\lib\\site-packages\\torch_explain\\logic\\nn\\psi.py\u001b[0m in \u001b[0;36mexplain_class\u001b[1;34m(model, x, concept_names, device)\u001b[0m\n\u001b[0;32m     52\u001b[0m     \u001b[1;32mfor\u001b[0m \u001b[0mj\u001b[0m \u001b[1;32min\u001b[0m \u001b[0mrange\u001b[0m\u001b[1;33m(\u001b[0m\u001b[0mn_layers\u001b[0m\u001b[1;33m)\u001b[0m\u001b[1;33m:\u001b[0m\u001b[1;33m\u001b[0m\u001b[1;33m\u001b[0m\u001b[0m\n\u001b[0;32m     53\u001b[0m         \u001b[0mX1\u001b[0m \u001b[1;33m=\u001b[0m \u001b[1;33m[\u001b[0m\u001b[0mx_real\u001b[0m\u001b[1;33m[\u001b[0m\u001b[1;33m:\u001b[0m\u001b[1;33m,\u001b[0m \u001b[0mnonpruned_positions\u001b[0m\u001b[1;33m[\u001b[0m\u001b[0mj\u001b[0m\u001b[1;33m]\u001b[0m\u001b[1;33m[\u001b[0m\u001b[0mi\u001b[0m\u001b[1;33m]\u001b[0m\u001b[1;33m[\u001b[0m\u001b[1;36m0\u001b[0m\u001b[1;33m]\u001b[0m\u001b[1;33m]\u001b[0m \u001b[1;32mfor\u001b[0m \u001b[0mi\u001b[0m \u001b[1;32min\u001b[0m \u001b[0mrange\u001b[0m\u001b[1;33m(\u001b[0m\u001b[0mneuron_list\u001b[0m\u001b[1;33m[\u001b[0m\u001b[0mj\u001b[0m\u001b[1;33m]\u001b[0m\u001b[1;33m)\u001b[0m\u001b[1;33m]\u001b[0m\u001b[1;33m\u001b[0m\u001b[1;33m\u001b[0m\u001b[0m\n\u001b[1;32m---> 54\u001b[1;33m         \u001b[0mweights_active\u001b[0m \u001b[1;33m=\u001b[0m \u001b[0m_get_nonpruned_weights\u001b[0m\u001b[1;33m(\u001b[0m\u001b[0mweights\u001b[0m\u001b[1;33m[\u001b[0m\u001b[0mj\u001b[0m\u001b[1;33m]\u001b[0m\u001b[1;33m,\u001b[0m \u001b[0mfan_in\u001b[0m\u001b[1;33m)\u001b[0m\u001b[1;33m\u001b[0m\u001b[1;33m\u001b[0m\u001b[0m\n\u001b[0m\u001b[0;32m     55\u001b[0m \u001b[1;33m\u001b[0m\u001b[0m\n\u001b[0;32m     56\u001b[0m         \u001b[1;31m# with real data we calculate the predictions neuron by neuron\u001b[0m\u001b[1;33m\u001b[0m\u001b[1;33m\u001b[0m\u001b[0m\n",
      "\u001b[1;32m~\\anaconda3\\lib\\site-packages\\torch_explain\\logic\\nn\\psi.py\u001b[0m in \u001b[0;36m_get_nonpruned_weights\u001b[1;34m(weight_matrix, fan_in)\u001b[0m\n\u001b[0;32m    171\u001b[0m     \u001b[1;32mfor\u001b[0m \u001b[0mi\u001b[0m \u001b[1;32min\u001b[0m \u001b[0mrange\u001b[0m\u001b[1;33m(\u001b[0m\u001b[0mn_neurons\u001b[0m\u001b[1;33m)\u001b[0m\u001b[1;33m:\u001b[0m\u001b[1;33m\u001b[0m\u001b[1;33m\u001b[0m\u001b[0m\n\u001b[0;32m    172\u001b[0m         \u001b[0mnonpruned_positions\u001b[0m \u001b[1;33m=\u001b[0m \u001b[0mnp\u001b[0m\u001b[1;33m.\u001b[0m\u001b[0mnonzero\u001b[0m\u001b[1;33m(\u001b[0m\u001b[0mweight_matrix\u001b[0m\u001b[1;33m[\u001b[0m\u001b[0mi\u001b[0m\u001b[1;33m]\u001b[0m\u001b[1;33m)\u001b[0m\u001b[1;33m\u001b[0m\u001b[1;33m\u001b[0m\u001b[0m\n\u001b[1;32m--> 173\u001b[1;33m         \u001b[0mweights_active\u001b[0m\u001b[1;33m[\u001b[0m\u001b[0mi\u001b[0m\u001b[1;33m]\u001b[0m \u001b[1;33m=\u001b[0m \u001b[1;33m(\u001b[0m\u001b[0mweight_matrix\u001b[0m\u001b[1;33m)\u001b[0m\u001b[1;33m[\u001b[0m\u001b[0mi\u001b[0m\u001b[1;33m,\u001b[0m \u001b[0mnonpruned_positions\u001b[0m\u001b[1;33m]\u001b[0m\u001b[1;33m\u001b[0m\u001b[1;33m\u001b[0m\u001b[0m\n\u001b[0m\u001b[0;32m    174\u001b[0m     \u001b[1;32mreturn\u001b[0m \u001b[0mweights_active\u001b[0m\u001b[1;33m\u001b[0m\u001b[1;33m\u001b[0m\u001b[0m\n\u001b[0;32m    175\u001b[0m \u001b[1;33m\u001b[0m\u001b[0m\n",
      "\u001b[1;31mValueError\u001b[0m: could not broadcast input array from shape (10,) into shape (2,)"
     ]
    }
   ],
   "source": [
    "# get first - order logic explanations for a specific target class\n",
    "y1h = one_hot ( y_train . squeeze () . long () )\n",
    "print(y1h)\n",
    "\n",
    "y_pred = model(y1h.float())\n",
    "\n",
    "print(y_pred)\n",
    "\n",
    "explanation = psi . explain_class ( model , x_train )\n",
    "\n",
    "# compute explanation accuracy and complexity\n",
    "accuracy , preds = test_explanation ( explanation , x_train , y1h , target_class =1)\n",
    "explanation_complexity = complexity ( explanation )"
   ]
  },
  {
   "cell_type": "code",
   "execution_count": null,
   "metadata": {},
   "outputs": [],
   "source": []
  }
 ],
 "metadata": {
  "interpreter": {
   "hash": "1cfebbf34b7371d6e9009dd3522fc360ee15a951ff99ad839f5c87824f850b4d"
  },
  "kernelspec": {
   "display_name": "Python 3.9.7 64-bit (conda)",
   "language": "python",
   "name": "python3"
  },
  "language_info": {
   "codemirror_mode": {
    "name": "ipython",
    "version": 3
   },
   "file_extension": ".py",
   "mimetype": "text/x-python",
   "name": "python",
   "nbconvert_exporter": "python",
   "pygments_lexer": "ipython3",
   "version": "3.9.7"
  },
  "orig_nbformat": 4
 },
 "nbformat": 4,
 "nbformat_minor": 2
}
