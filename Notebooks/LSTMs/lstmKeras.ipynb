{
 "cells": [
  {
   "cell_type": "code",
   "execution_count": 2,
   "metadata": {},
   "outputs": [],
   "source": [
    "# https://keras.io/examples/timeseries/timeseries_classification_from_scratch/\n",
    "\n",
    "\n",
    "import tensorflow as tf\n",
    "from tensorflow.keras.datasets import imdb\n",
    "from tensorflow.keras.models import Sequential\n",
    "from tensorflow.keras.layers import Dense\n",
    "from tensorflow.keras.layers import LSTM\n",
    "from tensorflow.keras.layers import Embedding\n",
    "from tensorflow import keras\n",
    "from tensorflow.keras.preprocessing import sequence\n",
    "from sklearn.model_selection import StratifiedKFold, train_test_split\n",
    "import numpy as np\n",
    "import matplotlib.pyplot as plt\n",
    "import pandas as pd\n",
    "from sklearn.metrics import f1_score\n",
    "from imblearn.keras import BalancedBatchGenerator\n",
    "from imblearn.under_sampling import NearMiss\n",
    "\n",
    "# fix random seed for reproducibility\n",
    "tf.random.set_seed(7)"
   ]
  },
  {
   "cell_type": "code",
   "execution_count": 3,
   "metadata": {},
   "outputs": [
    {
     "name": "stdout",
     "output_type": "stream",
     "text": [
      "(767, 12, 48) (767,)\n"
     ]
    }
   ],
   "source": [
    "df = pd.read_csv(\"cleanedTemporalData.csv\").set_index('PatientID')\n",
    "\n",
    "X = []\n",
    "y = []\n",
    "\n",
    "for id, group in df.groupby('PatientID'):\n",
    "    tempGroup = group.reset_index()\n",
    "    \n",
    "    tempGroup = tempGroup.drop(['PatientID', 'Mortality14Days'], axis=1)\n",
    "\n",
    "    tempGroup = tempGroup.fillna(0)\n",
    "\n",
    "    X.append(tempGroup.T.values)\n",
    "    y.append(group['Mortality14Days'].values[0])\n",
    "\n",
    "\n",
    "X = np.array(X)\n",
    "y = np.array(y)\n",
    "\n",
    "\n",
    "x_train, x_test, y_train, y_test = train_test_split(X, y, test_size=0.2, random_state=42)\n",
    "\n",
    "print(x_train.shape, y_train.shape)"
   ]
  },
  {
   "cell_type": "code",
   "execution_count": 4,
   "metadata": {},
   "outputs": [
    {
     "name": "stdout",
     "output_type": "stream",
     "text": [
      "You must install pydot (`pip install pydot`) and install graphviz (see instructions at https://graphviz.gitlab.io/download/) for plot_model/model_to_dot to work.\n"
     ]
    }
   ],
   "source": [
    "def make_model(input_shape):\n",
    "    input_layer = keras.layers.Input(input_shape)\n",
    "\n",
    "    conv1 = keras.layers.Conv1D(filters=64, kernel_size=3, padding=\"same\")(input_layer)\n",
    "    conv1 = keras.layers.BatchNormalization()(conv1)\n",
    "    conv1 = keras.layers.ReLU()(conv1)\n",
    "\n",
    "    conv2 = keras.layers.Conv1D(filters=64, kernel_size=3, padding=\"same\")(conv1)\n",
    "    conv2 = keras.layers.BatchNormalization()(conv2)\n",
    "    conv2 = keras.layers.ReLU()(conv2)\n",
    "\n",
    "    conv3 = keras.layers.Conv1D(filters=64, kernel_size=3, padding=\"same\")(conv2)\n",
    "    conv3 = keras.layers.BatchNormalization()(conv3)\n",
    "    conv3 = keras.layers.ReLU()(conv3)\n",
    "\n",
    "    gap = keras.layers.GlobalAveragePooling1D()(conv3)\n",
    "\n",
    "    output_layer = keras.layers.Dense(2, activation=\"softmax\")(gap)\n",
    "\n",
    "    return keras.models.Model(inputs=input_layer, outputs=output_layer)\n",
    "\n",
    "\n",
    "model = make_model(input_shape=x_train.shape[1:])\n",
    "keras.utils.plot_model(model, show_shapes=True)"
   ]
  },
  {
   "cell_type": "code",
   "execution_count": 5,
   "metadata": {},
   "outputs": [
    {
     "name": "stdout",
     "output_type": "stream",
     "text": [
      "{0: 0.0010822510822510823, 1: 0.02857142857142857}\n",
      "Epoch 1/500\n",
      "20/20 [==============================] - 2s 21ms/step - loss: 0.0016 - sparse_categorical_accuracy: 0.4225 - val_loss: 0.5363 - val_sparse_categorical_accuracy: 0.8052 - lr: 0.0010\n",
      "Epoch 2/500\n",
      "20/20 [==============================] - 0s 8ms/step - loss: 0.0013 - sparse_categorical_accuracy: 0.4454 - val_loss: 0.4851 - val_sparse_categorical_accuracy: 0.7857 - lr: 0.0010\n",
      "Epoch 3/500\n",
      "20/20 [==============================] - 0s 6ms/step - loss: 0.0012 - sparse_categorical_accuracy: 0.5661 - val_loss: 0.5738 - val_sparse_categorical_accuracy: 0.7013 - lr: 0.0010\n",
      "Epoch 4/500\n",
      "20/20 [==============================] - 0s 6ms/step - loss: 0.0010 - sparse_categorical_accuracy: 0.6574 - val_loss: 0.6325 - val_sparse_categorical_accuracy: 0.6688 - lr: 0.0010\n",
      "Epoch 5/500\n",
      "20/20 [==============================] - 0s 6ms/step - loss: 0.0010 - sparse_categorical_accuracy: 0.7798 - val_loss: 0.6522 - val_sparse_categorical_accuracy: 0.6429 - lr: 0.0010\n",
      "Epoch 6/500\n",
      "20/20 [==============================] - 0s 9ms/step - loss: 8.1109e-04 - sparse_categorical_accuracy: 0.7732 - val_loss: 0.4188 - val_sparse_categorical_accuracy: 0.8571 - lr: 0.0010\n",
      "Epoch 7/500\n",
      "20/20 [==============================] - 0s 7ms/step - loss: 7.5194e-04 - sparse_categorical_accuracy: 0.8499 - val_loss: 0.4855 - val_sparse_categorical_accuracy: 0.7403 - lr: 0.0010\n",
      "Epoch 8/500\n",
      "20/20 [==============================] - 0s 7ms/step - loss: 8.7986e-04 - sparse_categorical_accuracy: 0.7863 - val_loss: 0.7090 - val_sparse_categorical_accuracy: 0.6364 - lr: 0.0010\n",
      "Epoch 9/500\n",
      "20/20 [==============================] - 0s 7ms/step - loss: 7.5968e-04 - sparse_categorical_accuracy: 0.8124 - val_loss: 0.6105 - val_sparse_categorical_accuracy: 0.6623 - lr: 0.0010\n",
      "Epoch 10/500\n",
      "20/20 [==============================] - 0s 6ms/step - loss: 7.5180e-04 - sparse_categorical_accuracy: 0.8124 - val_loss: 0.5540 - val_sparse_categorical_accuracy: 0.7013 - lr: 0.0010\n",
      "Epoch 11/500\n",
      "20/20 [==============================] - 0s 6ms/step - loss: 6.2947e-04 - sparse_categorical_accuracy: 0.8630 - val_loss: 0.4779 - val_sparse_categorical_accuracy: 0.7532 - lr: 0.0010\n",
      "Epoch 12/500\n",
      "20/20 [==============================] - 0s 9ms/step - loss: 5.3281e-04 - sparse_categorical_accuracy: 0.8744 - val_loss: 0.4089 - val_sparse_categorical_accuracy: 0.7987 - lr: 0.0010\n",
      "Epoch 13/500\n",
      "20/20 [==============================] - 0s 9ms/step - loss: 4.2026e-04 - sparse_categorical_accuracy: 0.8972 - val_loss: 0.3068 - val_sparse_categorical_accuracy: 0.8636 - lr: 0.0010\n",
      "Epoch 14/500\n",
      "20/20 [==============================] - 0s 8ms/step - loss: 3.9648e-04 - sparse_categorical_accuracy: 0.9054 - val_loss: 0.2697 - val_sparse_categorical_accuracy: 0.9091 - lr: 0.0010\n",
      "Epoch 15/500\n",
      "20/20 [==============================] - 0s 6ms/step - loss: 3.6989e-04 - sparse_categorical_accuracy: 0.9233 - val_loss: 0.3430 - val_sparse_categorical_accuracy: 0.8442 - lr: 0.0010\n",
      "Epoch 16/500\n",
      "20/20 [==============================] - 0s 6ms/step - loss: 3.5660e-04 - sparse_categorical_accuracy: 0.9217 - val_loss: 0.3319 - val_sparse_categorical_accuracy: 0.8701 - lr: 0.0010\n",
      "Epoch 17/500\n",
      "20/20 [==============================] - 0s 8ms/step - loss: 4.2117e-04 - sparse_categorical_accuracy: 0.9103 - val_loss: 0.2181 - val_sparse_categorical_accuracy: 0.9481 - lr: 0.0010\n",
      "Epoch 18/500\n",
      "20/20 [==============================] - 0s 6ms/step - loss: 0.0018 - sparse_categorical_accuracy: 0.7390 - val_loss: 0.3930 - val_sparse_categorical_accuracy: 0.8896 - lr: 0.0010\n",
      "Epoch 19/500\n",
      "20/20 [==============================] - 0s 6ms/step - loss: 0.0010 - sparse_categorical_accuracy: 0.7080 - val_loss: 0.3589 - val_sparse_categorical_accuracy: 0.8506 - lr: 0.0010\n",
      "Epoch 20/500\n",
      "20/20 [==============================] - 0s 6ms/step - loss: 8.8444e-04 - sparse_categorical_accuracy: 0.7537 - val_loss: 0.6104 - val_sparse_categorical_accuracy: 0.6623 - lr: 0.0010\n",
      "Epoch 21/500\n",
      "20/20 [==============================] - 0s 7ms/step - loss: 7.3251e-04 - sparse_categorical_accuracy: 0.7977 - val_loss: 1.1534 - val_sparse_categorical_accuracy: 0.3961 - lr: 0.0010\n",
      "Epoch 22/500\n",
      "20/20 [==============================] - 0s 7ms/step - loss: 6.0600e-04 - sparse_categorical_accuracy: 0.8352 - val_loss: 0.5930 - val_sparse_categorical_accuracy: 0.7143 - lr: 0.0010\n",
      "Epoch 23/500\n",
      "20/20 [==============================] - 0s 7ms/step - loss: 5.4832e-04 - sparse_categorical_accuracy: 0.8581 - val_loss: 0.5949 - val_sparse_categorical_accuracy: 0.7013 - lr: 0.0010\n",
      "Epoch 24/500\n",
      "20/20 [==============================] - 0s 7ms/step - loss: 4.8987e-04 - sparse_categorical_accuracy: 0.8630 - val_loss: 0.5176 - val_sparse_categorical_accuracy: 0.7208 - lr: 0.0010\n",
      "Epoch 25/500\n",
      "20/20 [==============================] - 0s 7ms/step - loss: 4.4169e-04 - sparse_categorical_accuracy: 0.8923 - val_loss: 0.6918 - val_sparse_categorical_accuracy: 0.6753 - lr: 0.0010\n",
      "Epoch 26/500\n",
      "20/20 [==============================] - 0s 7ms/step - loss: 0.0011 - sparse_categorical_accuracy: 0.7423 - val_loss: 2.1285 - val_sparse_categorical_accuracy: 0.2403 - lr: 0.0010\n",
      "Epoch 27/500\n",
      "20/20 [==============================] - 0s 7ms/step - loss: 6.1640e-04 - sparse_categorical_accuracy: 0.8238 - val_loss: 0.5472 - val_sparse_categorical_accuracy: 0.7013 - lr: 0.0010\n",
      "Epoch 28/500\n",
      "20/20 [==============================] - 0s 8ms/step - loss: 4.7553e-04 - sparse_categorical_accuracy: 0.8809 - val_loss: 0.5250 - val_sparse_categorical_accuracy: 0.7208 - lr: 0.0010\n",
      "Epoch 29/500\n",
      "20/20 [==============================] - 0s 9ms/step - loss: 4.2819e-04 - sparse_categorical_accuracy: 0.8907 - val_loss: 0.3321 - val_sparse_categorical_accuracy: 0.8377 - lr: 0.0010\n",
      "Epoch 30/500\n",
      "20/20 [==============================] - 0s 8ms/step - loss: 3.8188e-04 - sparse_categorical_accuracy: 0.8891 - val_loss: 0.3845 - val_sparse_categorical_accuracy: 0.8052 - lr: 0.0010\n",
      "Epoch 31/500\n",
      "20/20 [==============================] - 0s 7ms/step - loss: 3.2368e-04 - sparse_categorical_accuracy: 0.9119 - val_loss: 0.3195 - val_sparse_categorical_accuracy: 0.8831 - lr: 0.0010\n",
      "Epoch 32/500\n",
      "20/20 [==============================] - 0s 7ms/step - loss: 2.8595e-04 - sparse_categorical_accuracy: 0.9233 - val_loss: 0.3642 - val_sparse_categorical_accuracy: 0.8312 - lr: 0.0010\n",
      "Epoch 33/500\n",
      "20/20 [==============================] - 0s 7ms/step - loss: 2.6984e-04 - sparse_categorical_accuracy: 0.9331 - val_loss: 0.3053 - val_sparse_categorical_accuracy: 0.8896 - lr: 0.0010\n",
      "Epoch 34/500\n",
      "20/20 [==============================] - 0s 7ms/step - loss: 2.2964e-04 - sparse_categorical_accuracy: 0.9299 - val_loss: 0.2797 - val_sparse_categorical_accuracy: 0.9091 - lr: 0.0010\n",
      "Epoch 35/500\n",
      "20/20 [==============================] - 0s 7ms/step - loss: 2.1125e-04 - sparse_categorical_accuracy: 0.9511 - val_loss: 0.2998 - val_sparse_categorical_accuracy: 0.8831 - lr: 0.0010\n",
      "Epoch 36/500\n",
      "20/20 [==============================] - 0s 6ms/step - loss: 2.0387e-04 - sparse_categorical_accuracy: 0.9527 - val_loss: 0.2699 - val_sparse_categorical_accuracy: 0.9156 - lr: 0.0010\n",
      "Epoch 37/500\n",
      "20/20 [==============================] - 0s 6ms/step - loss: 1.7773e-04 - sparse_categorical_accuracy: 0.9625 - val_loss: 0.2776 - val_sparse_categorical_accuracy: 0.9091 - lr: 0.0010\n",
      "Epoch 38/500\n",
      "20/20 [==============================] - 0s 6ms/step - loss: 1.5841e-04 - sparse_categorical_accuracy: 0.9462 - val_loss: 0.2751 - val_sparse_categorical_accuracy: 0.9156 - lr: 5.0000e-04\n",
      "Epoch 39/500\n",
      "20/20 [==============================] - 0s 6ms/step - loss: 1.5210e-04 - sparse_categorical_accuracy: 0.9625 - val_loss: 0.2604 - val_sparse_categorical_accuracy: 0.9156 - lr: 5.0000e-04\n",
      "Epoch 40/500\n",
      "20/20 [==============================] - 0s 6ms/step - loss: 1.4206e-04 - sparse_categorical_accuracy: 0.9690 - val_loss: 0.2818 - val_sparse_categorical_accuracy: 0.9026 - lr: 5.0000e-04\n",
      "Epoch 41/500\n",
      "20/20 [==============================] - 0s 7ms/step - loss: 1.3243e-04 - sparse_categorical_accuracy: 0.9723 - val_loss: 0.2700 - val_sparse_categorical_accuracy: 0.9221 - lr: 5.0000e-04\n",
      "Epoch 42/500\n",
      "20/20 [==============================] - 0s 6ms/step - loss: 1.2891e-04 - sparse_categorical_accuracy: 0.9723 - val_loss: 0.3197 - val_sparse_categorical_accuracy: 0.8701 - lr: 5.0000e-04\n",
      "Epoch 43/500\n",
      "20/20 [==============================] - 0s 6ms/step - loss: 1.2761e-04 - sparse_categorical_accuracy: 0.9723 - val_loss: 0.2686 - val_sparse_categorical_accuracy: 0.9156 - lr: 5.0000e-04\n",
      "Epoch 44/500\n",
      "20/20 [==============================] - 0s 6ms/step - loss: 1.3314e-04 - sparse_categorical_accuracy: 0.9755 - val_loss: 0.3251 - val_sparse_categorical_accuracy: 0.8831 - lr: 5.0000e-04\n",
      "Epoch 45/500\n",
      "20/20 [==============================] - 0s 6ms/step - loss: 1.1826e-04 - sparse_categorical_accuracy: 0.9755 - val_loss: 0.2570 - val_sparse_categorical_accuracy: 0.9221 - lr: 5.0000e-04\n",
      "Epoch 46/500\n",
      "20/20 [==============================] - 0s 6ms/step - loss: 9.7632e-05 - sparse_categorical_accuracy: 0.9837 - val_loss: 0.2869 - val_sparse_categorical_accuracy: 0.9026 - lr: 5.0000e-04\n",
      "Epoch 47/500\n",
      "20/20 [==============================] - 0s 10ms/step - loss: 1.5541e-04 - sparse_categorical_accuracy: 0.9853 - val_loss: 0.3997 - val_sparse_categorical_accuracy: 0.8442 - lr: 5.0000e-04\n",
      "Epoch 48/500\n",
      "20/20 [==============================] - 0s 6ms/step - loss: 6.4737e-04 - sparse_categorical_accuracy: 0.8760 - val_loss: 2.5437 - val_sparse_categorical_accuracy: 0.4221 - lr: 5.0000e-04\n",
      "Epoch 49/500\n",
      "20/20 [==============================] - 0s 6ms/step - loss: 4.4687e-04 - sparse_categorical_accuracy: 0.8679 - val_loss: 0.8267 - val_sparse_categorical_accuracy: 0.6883 - lr: 5.0000e-04\n",
      "Epoch 50/500\n",
      "20/20 [==============================] - 0s 7ms/step - loss: 3.6078e-04 - sparse_categorical_accuracy: 0.9201 - val_loss: 0.4774 - val_sparse_categorical_accuracy: 0.8377 - lr: 5.0000e-04\n",
      "Epoch 51/500\n",
      "20/20 [==============================] - 0s 7ms/step - loss: 2.2015e-04 - sparse_categorical_accuracy: 0.9315 - val_loss: 0.3442 - val_sparse_categorical_accuracy: 0.8961 - lr: 5.0000e-04\n",
      "Epoch 52/500\n",
      "20/20 [==============================] - 0s 6ms/step - loss: 2.2505e-04 - sparse_categorical_accuracy: 0.9413 - val_loss: 0.3444 - val_sparse_categorical_accuracy: 0.8961 - lr: 5.0000e-04\n",
      "Epoch 53/500\n",
      "20/20 [==============================] - 0s 6ms/step - loss: 1.7978e-04 - sparse_categorical_accuracy: 0.9641 - val_loss: 0.3282 - val_sparse_categorical_accuracy: 0.8961 - lr: 5.0000e-04\n",
      "Epoch 54/500\n",
      "20/20 [==============================] - 0s 7ms/step - loss: 1.6513e-04 - sparse_categorical_accuracy: 0.9527 - val_loss: 0.2959 - val_sparse_categorical_accuracy: 0.8961 - lr: 5.0000e-04\n",
      "Epoch 55/500\n",
      "20/20 [==============================] - 0s 6ms/step - loss: 1.4340e-04 - sparse_categorical_accuracy: 0.9690 - val_loss: 0.2928 - val_sparse_categorical_accuracy: 0.9091 - lr: 5.0000e-04\n",
      "Epoch 56/500\n",
      "20/20 [==============================] - 0s 6ms/step - loss: 1.4435e-04 - sparse_categorical_accuracy: 0.9706 - val_loss: 0.2784 - val_sparse_categorical_accuracy: 0.9221 - lr: 5.0000e-04\n",
      "Epoch 57/500\n",
      "20/20 [==============================] - 0s 6ms/step - loss: 1.2746e-04 - sparse_categorical_accuracy: 0.9755 - val_loss: 0.2970 - val_sparse_categorical_accuracy: 0.9091 - lr: 5.0000e-04\n",
      "Epoch 58/500\n",
      "20/20 [==============================] - 0s 6ms/step - loss: 1.0994e-04 - sparse_categorical_accuracy: 0.9755 - val_loss: 0.2972 - val_sparse_categorical_accuracy: 0.9091 - lr: 2.5000e-04\n",
      "Epoch 59/500\n",
      "20/20 [==============================] - 0s 6ms/step - loss: 1.0920e-04 - sparse_categorical_accuracy: 0.9723 - val_loss: 0.2951 - val_sparse_categorical_accuracy: 0.9091 - lr: 2.5000e-04\n",
      "Epoch 60/500\n",
      "20/20 [==============================] - 0s 7ms/step - loss: 1.1676e-04 - sparse_categorical_accuracy: 0.9804 - val_loss: 0.3120 - val_sparse_categorical_accuracy: 0.8961 - lr: 2.5000e-04\n",
      "Epoch 61/500\n",
      "20/20 [==============================] - 0s 6ms/step - loss: 1.8896e-04 - sparse_categorical_accuracy: 0.9478 - val_loss: 0.4248 - val_sparse_categorical_accuracy: 0.8636 - lr: 2.5000e-04\n",
      "Epoch 62/500\n",
      "20/20 [==============================] - 0s 5ms/step - loss: 1.8195e-04 - sparse_categorical_accuracy: 0.9445 - val_loss: 0.3505 - val_sparse_categorical_accuracy: 0.8896 - lr: 2.5000e-04\n",
      "Epoch 63/500\n",
      "20/20 [==============================] - 0s 6ms/step - loss: 1.1487e-04 - sparse_categorical_accuracy: 0.9739 - val_loss: 0.3007 - val_sparse_categorical_accuracy: 0.8961 - lr: 2.5000e-04\n",
      "Epoch 64/500\n",
      "20/20 [==============================] - 0s 6ms/step - loss: 1.2080e-04 - sparse_categorical_accuracy: 0.9755 - val_loss: 0.3014 - val_sparse_categorical_accuracy: 0.9026 - lr: 2.5000e-04\n",
      "Epoch 65/500\n",
      "20/20 [==============================] - 0s 7ms/step - loss: 1.0609e-04 - sparse_categorical_accuracy: 0.9739 - val_loss: 0.3091 - val_sparse_categorical_accuracy: 0.9026 - lr: 2.5000e-04\n",
      "Epoch 66/500\n",
      "20/20 [==============================] - 0s 6ms/step - loss: 9.1434e-05 - sparse_categorical_accuracy: 0.9788 - val_loss: 0.3097 - val_sparse_categorical_accuracy: 0.9091 - lr: 2.5000e-04\n",
      "Epoch 67/500\n",
      "20/20 [==============================] - 0s 6ms/step - loss: 1.1175e-04 - sparse_categorical_accuracy: 0.9804 - val_loss: 0.3114 - val_sparse_categorical_accuracy: 0.9026 - lr: 2.5000e-04\n",
      "Epoch 67: early stopping\n"
     ]
    }
   ],
   "source": [
    "epochs = 500\n",
    "batch_size = 32\n",
    "\n",
    "callbacks = [\n",
    "    keras.callbacks.ModelCheckpoint(\n",
    "        \"best_model.h5\", save_best_only=True, monitor=\"val_loss\"\n",
    "    ),\n",
    "    keras.callbacks.ReduceLROnPlateau(\n",
    "        monitor=\"val_loss\", factor=0.5, patience=20, min_lr=0.0001\n",
    "    ),\n",
    "    keras.callbacks.EarlyStopping(monitor=\"val_loss\", patience=50, verbose=1),\n",
    "]\n",
    "model.compile(\n",
    "    optimizer=\"adam\",\n",
    "    loss=\"sparse_categorical_crossentropy\",\n",
    "    metrics=[\"sparse_categorical_accuracy\"],\n",
    ")\n",
    "\n",
    "weights = pd.Series(y).value_counts().values\n",
    "\n",
    "classWeights = {x : 1/weights[x] for x in np.unique(y)}\n",
    "\n",
    "print(classWeights)\n",
    "\n",
    "history = model.fit(\n",
    "    x_train,\n",
    "    y_train,\n",
    "    batch_size=batch_size,\n",
    "    epochs=epochs,\n",
    "    callbacks=callbacks,\n",
    "    validation_split=0.2,\n",
    "    verbose=1,\n",
    "    class_weight = classWeights,\n",
    ")"
   ]
  },
  {
   "cell_type": "code",
   "execution_count": 6,
   "metadata": {},
   "outputs": [
    {
     "data": {
      "text/plain": [
       "dict_keys(['loss', 'sparse_categorical_accuracy', 'val_loss', 'val_sparse_categorical_accuracy', 'lr'])"
      ]
     },
     "execution_count": 6,
     "metadata": {},
     "output_type": "execute_result"
    }
   ],
   "source": [
    "history.history.keys()"
   ]
  },
  {
   "cell_type": "code",
   "execution_count": 7,
   "metadata": {},
   "outputs": [
    {
     "data": {
      "image/png": "[encoded data removed]",
      "text/plain": [
       "<Figure size 432x288 with 1 Axes>"
      ]
     },
     "metadata": {
      "needs_background": "light"
     },
     "output_type": "display_data"
    }
   ],
   "source": [
    "plt.plot(range(len(history.history['loss'])), history.history['loss'])\n",
    "plt.plot(range(len(history.history['val_loss'])), history.history['val_loss'])\n",
    "plt.show()"
   ]
  },
  {
   "cell_type": "code",
   "execution_count": 9,
   "metadata": {},
   "outputs": [
    {
     "name": "stdout",
     "output_type": "stream",
     "text": [
      "6/6 [==============================] - 0s 2ms/step\n"
     ]
    },
    {
     "data": {
      "text/plain": [
       "0.5336976320582878"
      ]
     },
     "metadata": {},
     "output_type": "display_data"
    }
   ],
   "source": [
    "preds = np.argmax(model.predict(x_test), axis=1)\n",
    "display(f1_score(y_test, preds, average=\"macro\"))"
   ]
  }
 ],
 "metadata": {
  "kernelspec": {
   "display_name": "Python 3.9.7 ('base')",
   "language": "python",
   "name": "python3"
  },
  "language_info": {
   "codemirror_mode": {
    "name": "ipython",
    "version": 3
   },
   "file_extension": ".py",
   "mimetype": "text/x-python",
   "name": "python",
   "nbconvert_exporter": "python",
   "pygments_lexer": "ipython3",
   "version": "3.9.7"
  },
  "orig_nbformat": 4,
  "vscode": {
   "interpreter": {
    "hash": "0c0da8f5b93ec0612bb8aed25290fce040bcd4618fccb82f778dd001cba2969b"
   }
  }
 },
 "nbformat": 4,
 "nbformat_minor": 2
}
